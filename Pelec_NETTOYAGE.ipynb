{
  "nbformat": 4,
  "nbformat_minor": 0,
  "metadata": {
    "colab": {
      "name": "P4 NETTOYAGE",
      "provenance": [],
      "toc_visible": true
    },
    "kernelspec": {
      "name": "python3",
      "display_name": "Python 3"
    }
  },
  "cells": [
    {
      "cell_type": "code",
      "metadata": {
        "id": "Uoy7-lZ2mL6r",
        "colab_type": "code",
        "colab": {
          "base_uri": "https://localhost:8080/",
          "height": 52
        },
        "outputId": "03fe933b-5266-4b24-f728-5aa7a79e0440"
      },
      "source": [
        "import numpy as np\n",
        "import pandas as pd\n",
        "import matplotlib.pyplot as plt\n",
        "import seaborn as sns"
      ],
      "execution_count": null,
      "outputs": [
        {
          "output_type": "stream",
          "text": [
            "/usr/local/lib/python3.6/dist-packages/statsmodels/tools/_testing.py:19: FutureWarning: pandas.util.testing is deprecated. Use the functions in the public API at pandas.testing instead.\n",
            "  import pandas.util.testing as tm\n"
          ],
          "name": "stderr"
        }
      ]
    },
    {
      "cell_type": "code",
      "metadata": {
        "id": "j5xz1MZzmTJF",
        "colab_type": "code",
        "colab": {
          "base_uri": "https://localhost:8080/",
          "height": 124
        },
        "outputId": "0cf0f4f6-ebba-4990-cf10-5a36630db0bd"
      },
      "source": [
        "from google.colab import drive\n",
        "drive.mount('/content/drive')"
      ],
      "execution_count": null,
      "outputs": [
        {
          "output_type": "stream",
          "text": [
            "Go to this URL in a browser: https://accounts.google.com/o/oauth2/auth?client_id=947318989803-6bn6qk8qdgf4n4g3pfee6491hc0brc4i.apps.googleusercontent.com&redirect_uri=urn%3aietf%3awg%3aoauth%3a2.0%3aoob&scope=email%20https%3a%2f%2fwww.googleapis.com%2fauth%2fdocs.test%20https%3a%2f%2fwww.googleapis.com%2fauth%2fdrive%20https%3a%2f%2fwww.googleapis.com%2fauth%2fdrive.photos.readonly%20https%3a%2f%2fwww.googleapis.com%2fauth%2fpeopleapi.readonly&response_type=code\n",
            "\n",
            "Enter your authorization code:\n",
            "··········\n",
            "Mounted at /content/drive\n"
          ],
          "name": "stdout"
        }
      ]
    },
    {
      "cell_type": "code",
      "metadata": {
        "id": "7kvqzw2LmVby",
        "colab_type": "code",
        "colab": {}
      },
      "source": [
        "import os\n",
        "os.chdir('/content/drive/My Drive/Colab Notebooks/')"
      ],
      "execution_count": null,
      "outputs": []
    },
    {
      "cell_type": "code",
      "metadata": {
        "id": "6EvgmZ4KmXdZ",
        "colab_type": "code",
        "colab": {}
      },
      "source": [
        "data_2015 = pd.read_csv(\"p4_2015.csv\")\n",
        "data_2016 = pd.read_csv(\"p4_2016.csv\")"
      ],
      "execution_count": null,
      "outputs": []
    },
    {
      "cell_type": "markdown",
      "metadata": {
        "id": "9GkBlF--rK-V",
        "colab_type": "text"
      },
      "source": [
        "##Analyse descriptive"
      ]
    },
    {
      "cell_type": "code",
      "metadata": {
        "id": "CwuCmOUZ4Sw1",
        "colab_type": "code",
        "colab": {
          "base_uri": "https://localhost:8080/",
          "height": 581
        },
        "outputId": "70452c25-d388-4959-d2c0-0076ac99eb37"
      },
      "source": [
        "data_2015.head()"
      ],
      "execution_count": null,
      "outputs": [
        {
          "output_type": "execute_result",
          "data": {
            "text/html": [
              "<div>\n",
              "<style scoped>\n",
              "    .dataframe tbody tr th:only-of-type {\n",
              "        vertical-align: middle;\n",
              "    }\n",
              "\n",
              "    .dataframe tbody tr th {\n",
              "        vertical-align: top;\n",
              "    }\n",
              "\n",
              "    .dataframe thead th {\n",
              "        text-align: right;\n",
              "    }\n",
              "</style>\n",
              "<table border=\"1\" class=\"dataframe\">\n",
              "  <thead>\n",
              "    <tr style=\"text-align: right;\">\n",
              "      <th></th>\n",
              "      <th>OSEBuildingID</th>\n",
              "      <th>DataYear</th>\n",
              "      <th>BuildingType</th>\n",
              "      <th>PrimaryPropertyType</th>\n",
              "      <th>PropertyName</th>\n",
              "      <th>TaxParcelIdentificationNumber</th>\n",
              "      <th>Location</th>\n",
              "      <th>CouncilDistrictCode</th>\n",
              "      <th>Neighborhood</th>\n",
              "      <th>YearBuilt</th>\n",
              "      <th>NumberofBuildings</th>\n",
              "      <th>NumberofFloors</th>\n",
              "      <th>PropertyGFATotal</th>\n",
              "      <th>PropertyGFAParking</th>\n",
              "      <th>PropertyGFABuilding(s)</th>\n",
              "      <th>ListOfAllPropertyUseTypes</th>\n",
              "      <th>LargestPropertyUseType</th>\n",
              "      <th>LargestPropertyUseTypeGFA</th>\n",
              "      <th>SecondLargestPropertyUseType</th>\n",
              "      <th>SecondLargestPropertyUseTypeGFA</th>\n",
              "      <th>ThirdLargestPropertyUseType</th>\n",
              "      <th>ThirdLargestPropertyUseTypeGFA</th>\n",
              "      <th>YearsENERGYSTARCertified</th>\n",
              "      <th>ENERGYSTARScore</th>\n",
              "      <th>SiteEUI(kBtu/sf)</th>\n",
              "      <th>SiteEUIWN(kBtu/sf)</th>\n",
              "      <th>SourceEUI(kBtu/sf)</th>\n",
              "      <th>SourceEUIWN(kBtu/sf)</th>\n",
              "      <th>SiteEnergyUse(kBtu)</th>\n",
              "      <th>SiteEnergyUseWN(kBtu)</th>\n",
              "      <th>SteamUse(kBtu)</th>\n",
              "      <th>Electricity(kWh)</th>\n",
              "      <th>Electricity(kBtu)</th>\n",
              "      <th>NaturalGas(therms)</th>\n",
              "      <th>NaturalGas(kBtu)</th>\n",
              "      <th>OtherFuelUse(kBtu)</th>\n",
              "      <th>GHGEmissions(MetricTonsCO2e)</th>\n",
              "      <th>GHGEmissionsIntensity(kgCO2e/ft2)</th>\n",
              "      <th>DefaultData</th>\n",
              "      <th>Comment</th>\n",
              "      <th>ComplianceStatus</th>\n",
              "      <th>Outlier</th>\n",
              "      <th>2010 Census Tracts</th>\n",
              "      <th>Seattle Police Department Micro Community Policing Plan Areas</th>\n",
              "      <th>City Council Districts</th>\n",
              "      <th>SPD Beats</th>\n",
              "      <th>Zip Codes</th>\n",
              "    </tr>\n",
              "  </thead>\n",
              "  <tbody>\n",
              "    <tr>\n",
              "      <th>0</th>\n",
              "      <td>1</td>\n",
              "      <td>2015</td>\n",
              "      <td>NonResidential</td>\n",
              "      <td>Hotel</td>\n",
              "      <td>MAYFLOWER PARK HOTEL</td>\n",
              "      <td>659000030</td>\n",
              "      <td>{'latitude': '47.61219025', 'longitude': '-122...</td>\n",
              "      <td>7</td>\n",
              "      <td>DOWNTOWN</td>\n",
              "      <td>1927</td>\n",
              "      <td>1</td>\n",
              "      <td>12.0</td>\n",
              "      <td>88434</td>\n",
              "      <td>0</td>\n",
              "      <td>88434</td>\n",
              "      <td>Hotel</td>\n",
              "      <td>Hotel</td>\n",
              "      <td>88434.0</td>\n",
              "      <td>NaN</td>\n",
              "      <td>NaN</td>\n",
              "      <td>NaN</td>\n",
              "      <td>NaN</td>\n",
              "      <td>NaN</td>\n",
              "      <td>65.0</td>\n",
              "      <td>78.9</td>\n",
              "      <td>80.3</td>\n",
              "      <td>173.5</td>\n",
              "      <td>175.1</td>\n",
              "      <td>6981428.0</td>\n",
              "      <td>7097539.0</td>\n",
              "      <td>2023032.0</td>\n",
              "      <td>1080307.0</td>\n",
              "      <td>3686160.0</td>\n",
              "      <td>12724.0</td>\n",
              "      <td>1272388.0</td>\n",
              "      <td>0.0</td>\n",
              "      <td>249.43</td>\n",
              "      <td>2.64</td>\n",
              "      <td>No</td>\n",
              "      <td>NaN</td>\n",
              "      <td>Compliant</td>\n",
              "      <td>NaN</td>\n",
              "      <td>NaN</td>\n",
              "      <td>14.0</td>\n",
              "      <td>NaN</td>\n",
              "      <td>31.0</td>\n",
              "      <td>18081</td>\n",
              "    </tr>\n",
              "    <tr>\n",
              "      <th>1</th>\n",
              "      <td>2</td>\n",
              "      <td>2015</td>\n",
              "      <td>NonResidential</td>\n",
              "      <td>Hotel</td>\n",
              "      <td>PARAMOUNT HOTEL</td>\n",
              "      <td>659000220</td>\n",
              "      <td>{'latitude': '47.61310583', 'longitude': '-122...</td>\n",
              "      <td>7</td>\n",
              "      <td>DOWNTOWN</td>\n",
              "      <td>1996</td>\n",
              "      <td>1</td>\n",
              "      <td>11.0</td>\n",
              "      <td>103566</td>\n",
              "      <td>15064</td>\n",
              "      <td>88502</td>\n",
              "      <td>Hotel, Parking, Restaurant</td>\n",
              "      <td>Hotel</td>\n",
              "      <td>83880.0</td>\n",
              "      <td>Parking</td>\n",
              "      <td>15064.0</td>\n",
              "      <td>Restaurant</td>\n",
              "      <td>4622.0</td>\n",
              "      <td>NaN</td>\n",
              "      <td>51.0</td>\n",
              "      <td>94.4</td>\n",
              "      <td>99.0</td>\n",
              "      <td>191.3</td>\n",
              "      <td>195.2</td>\n",
              "      <td>8354235.0</td>\n",
              "      <td>8765788.0</td>\n",
              "      <td>0.0</td>\n",
              "      <td>1144563.0</td>\n",
              "      <td>3905411.0</td>\n",
              "      <td>44490.0</td>\n",
              "      <td>4448985.0</td>\n",
              "      <td>0.0</td>\n",
              "      <td>263.51</td>\n",
              "      <td>2.38</td>\n",
              "      <td>No</td>\n",
              "      <td>NaN</td>\n",
              "      <td>Compliant</td>\n",
              "      <td>NaN</td>\n",
              "      <td>NaN</td>\n",
              "      <td>14.0</td>\n",
              "      <td>NaN</td>\n",
              "      <td>31.0</td>\n",
              "      <td>18081</td>\n",
              "    </tr>\n",
              "    <tr>\n",
              "      <th>2</th>\n",
              "      <td>3</td>\n",
              "      <td>2015</td>\n",
              "      <td>NonResidential</td>\n",
              "      <td>Hotel</td>\n",
              "      <td>WESTIN HOTEL</td>\n",
              "      <td>659000475</td>\n",
              "      <td>{'latitude': '47.61334897', 'longitude': '-122...</td>\n",
              "      <td>7</td>\n",
              "      <td>DOWNTOWN</td>\n",
              "      <td>1969</td>\n",
              "      <td>1</td>\n",
              "      <td>41.0</td>\n",
              "      <td>961990</td>\n",
              "      <td>0</td>\n",
              "      <td>961990</td>\n",
              "      <td>Hotel, Parking, Swimming Pool</td>\n",
              "      <td>Hotel</td>\n",
              "      <td>757243.0</td>\n",
              "      <td>Parking</td>\n",
              "      <td>100000.0</td>\n",
              "      <td>Swimming Pool</td>\n",
              "      <td>0.0</td>\n",
              "      <td>NaN</td>\n",
              "      <td>18.0</td>\n",
              "      <td>96.6</td>\n",
              "      <td>99.7</td>\n",
              "      <td>242.7</td>\n",
              "      <td>246.5</td>\n",
              "      <td>73130656.0</td>\n",
              "      <td>75506272.0</td>\n",
              "      <td>19660404.0</td>\n",
              "      <td>14583930.0</td>\n",
              "      <td>49762435.0</td>\n",
              "      <td>37099.0</td>\n",
              "      <td>3709900.0</td>\n",
              "      <td>0.0</td>\n",
              "      <td>2061.48</td>\n",
              "      <td>1.92</td>\n",
              "      <td>Yes</td>\n",
              "      <td>NaN</td>\n",
              "      <td>Compliant</td>\n",
              "      <td>NaN</td>\n",
              "      <td>NaN</td>\n",
              "      <td>56.0</td>\n",
              "      <td>NaN</td>\n",
              "      <td>31.0</td>\n",
              "      <td>18081</td>\n",
              "    </tr>\n",
              "    <tr>\n",
              "      <th>3</th>\n",
              "      <td>5</td>\n",
              "      <td>2015</td>\n",
              "      <td>NonResidential</td>\n",
              "      <td>Hotel</td>\n",
              "      <td>HOTEL MAX</td>\n",
              "      <td>659000640</td>\n",
              "      <td>{'latitude': '47.61421585', 'longitude': '-122...</td>\n",
              "      <td>7</td>\n",
              "      <td>DOWNTOWN</td>\n",
              "      <td>1926</td>\n",
              "      <td>1</td>\n",
              "      <td>10.0</td>\n",
              "      <td>61320</td>\n",
              "      <td>0</td>\n",
              "      <td>61320</td>\n",
              "      <td>Hotel</td>\n",
              "      <td>Hotel</td>\n",
              "      <td>61320.0</td>\n",
              "      <td>NaN</td>\n",
              "      <td>NaN</td>\n",
              "      <td>NaN</td>\n",
              "      <td>NaN</td>\n",
              "      <td>NaN</td>\n",
              "      <td>1.0</td>\n",
              "      <td>460.4</td>\n",
              "      <td>462.5</td>\n",
              "      <td>636.3</td>\n",
              "      <td>643.2</td>\n",
              "      <td>28229320.0</td>\n",
              "      <td>28363444.0</td>\n",
              "      <td>23458518.0</td>\n",
              "      <td>811521.0</td>\n",
              "      <td>2769023.0</td>\n",
              "      <td>20019.0</td>\n",
              "      <td>2001894.0</td>\n",
              "      <td>0.0</td>\n",
              "      <td>1936.34</td>\n",
              "      <td>31.38</td>\n",
              "      <td>No</td>\n",
              "      <td>NaN</td>\n",
              "      <td>Compliant</td>\n",
              "      <td>High Outlier</td>\n",
              "      <td>NaN</td>\n",
              "      <td>56.0</td>\n",
              "      <td>NaN</td>\n",
              "      <td>31.0</td>\n",
              "      <td>18081</td>\n",
              "    </tr>\n",
              "    <tr>\n",
              "      <th>4</th>\n",
              "      <td>8</td>\n",
              "      <td>2015</td>\n",
              "      <td>NonResidential</td>\n",
              "      <td>Hotel</td>\n",
              "      <td>WARWICK SEATTLE HOTEL</td>\n",
              "      <td>659000970</td>\n",
              "      <td>{'latitude': '47.6137544', 'longitude': '-122....</td>\n",
              "      <td>7</td>\n",
              "      <td>DOWNTOWN</td>\n",
              "      <td>1980</td>\n",
              "      <td>1</td>\n",
              "      <td>18.0</td>\n",
              "      <td>119890</td>\n",
              "      <td>12460</td>\n",
              "      <td>107430</td>\n",
              "      <td>Hotel, Parking, Swimming Pool</td>\n",
              "      <td>Hotel</td>\n",
              "      <td>123445.0</td>\n",
              "      <td>Parking</td>\n",
              "      <td>68009.0</td>\n",
              "      <td>Swimming Pool</td>\n",
              "      <td>0.0</td>\n",
              "      <td>NaN</td>\n",
              "      <td>67.0</td>\n",
              "      <td>120.1</td>\n",
              "      <td>122.1</td>\n",
              "      <td>228.8</td>\n",
              "      <td>227.1</td>\n",
              "      <td>14829099.0</td>\n",
              "      <td>15078243.0</td>\n",
              "      <td>0.0</td>\n",
              "      <td>1777841.0</td>\n",
              "      <td>6066245.0</td>\n",
              "      <td>87631.0</td>\n",
              "      <td>8763105.0</td>\n",
              "      <td>0.0</td>\n",
              "      <td>507.70</td>\n",
              "      <td>4.02</td>\n",
              "      <td>No</td>\n",
              "      <td>NaN</td>\n",
              "      <td>Compliant</td>\n",
              "      <td>NaN</td>\n",
              "      <td>NaN</td>\n",
              "      <td>56.0</td>\n",
              "      <td>NaN</td>\n",
              "      <td>31.0</td>\n",
              "      <td>19576</td>\n",
              "    </tr>\n",
              "  </tbody>\n",
              "</table>\n",
              "</div>"
            ],
            "text/plain": [
              "   OSEBuildingID  DataYear  ... SPD Beats Zip Codes\n",
              "0              1      2015  ...      31.0     18081\n",
              "1              2      2015  ...      31.0     18081\n",
              "2              3      2015  ...      31.0     18081\n",
              "3              5      2015  ...      31.0     18081\n",
              "4              8      2015  ...      31.0     19576\n",
              "\n",
              "[5 rows x 47 columns]"
            ]
          },
          "metadata": {
            "tags": []
          },
          "execution_count": 6
        }
      ]
    },
    {
      "cell_type": "code",
      "metadata": {
        "id": "LeEWog_84Yxi",
        "colab_type": "code",
        "colab": {
          "base_uri": "https://localhost:8080/",
          "height": 343
        },
        "outputId": "39b82cd4-ce0d-44e0-899a-edf690b6763b"
      },
      "source": [
        "data_2016.head()"
      ],
      "execution_count": null,
      "outputs": [
        {
          "output_type": "execute_result",
          "data": {
            "text/html": [
              "<div>\n",
              "<style scoped>\n",
              "    .dataframe tbody tr th:only-of-type {\n",
              "        vertical-align: middle;\n",
              "    }\n",
              "\n",
              "    .dataframe tbody tr th {\n",
              "        vertical-align: top;\n",
              "    }\n",
              "\n",
              "    .dataframe thead th {\n",
              "        text-align: right;\n",
              "    }\n",
              "</style>\n",
              "<table border=\"1\" class=\"dataframe\">\n",
              "  <thead>\n",
              "    <tr style=\"text-align: right;\">\n",
              "      <th></th>\n",
              "      <th>OSEBuildingID</th>\n",
              "      <th>DataYear</th>\n",
              "      <th>BuildingType</th>\n",
              "      <th>PrimaryPropertyType</th>\n",
              "      <th>PropertyName</th>\n",
              "      <th>Address</th>\n",
              "      <th>City</th>\n",
              "      <th>State</th>\n",
              "      <th>ZipCode</th>\n",
              "      <th>TaxParcelIdentificationNumber</th>\n",
              "      <th>CouncilDistrictCode</th>\n",
              "      <th>Neighborhood</th>\n",
              "      <th>Latitude</th>\n",
              "      <th>Longitude</th>\n",
              "      <th>YearBuilt</th>\n",
              "      <th>NumberofBuildings</th>\n",
              "      <th>NumberofFloors</th>\n",
              "      <th>PropertyGFATotal</th>\n",
              "      <th>PropertyGFAParking</th>\n",
              "      <th>PropertyGFABuilding(s)</th>\n",
              "      <th>ListOfAllPropertyUseTypes</th>\n",
              "      <th>LargestPropertyUseType</th>\n",
              "      <th>LargestPropertyUseTypeGFA</th>\n",
              "      <th>SecondLargestPropertyUseType</th>\n",
              "      <th>SecondLargestPropertyUseTypeGFA</th>\n",
              "      <th>ThirdLargestPropertyUseType</th>\n",
              "      <th>ThirdLargestPropertyUseTypeGFA</th>\n",
              "      <th>YearsENERGYSTARCertified</th>\n",
              "      <th>ENERGYSTARScore</th>\n",
              "      <th>SiteEUI(kBtu/sf)</th>\n",
              "      <th>SiteEUIWN(kBtu/sf)</th>\n",
              "      <th>SourceEUI(kBtu/sf)</th>\n",
              "      <th>SourceEUIWN(kBtu/sf)</th>\n",
              "      <th>SiteEnergyUse(kBtu)</th>\n",
              "      <th>SiteEnergyUseWN(kBtu)</th>\n",
              "      <th>SteamUse(kBtu)</th>\n",
              "      <th>Electricity(kWh)</th>\n",
              "      <th>Electricity(kBtu)</th>\n",
              "      <th>NaturalGas(therms)</th>\n",
              "      <th>NaturalGas(kBtu)</th>\n",
              "      <th>DefaultData</th>\n",
              "      <th>Comments</th>\n",
              "      <th>ComplianceStatus</th>\n",
              "      <th>Outlier</th>\n",
              "      <th>TotalGHGEmissions</th>\n",
              "      <th>GHGEmissionsIntensity</th>\n",
              "    </tr>\n",
              "  </thead>\n",
              "  <tbody>\n",
              "    <tr>\n",
              "      <th>0</th>\n",
              "      <td>1</td>\n",
              "      <td>2016</td>\n",
              "      <td>NonResidential</td>\n",
              "      <td>Hotel</td>\n",
              "      <td>Mayflower park hotel</td>\n",
              "      <td>405 Olive way</td>\n",
              "      <td>Seattle</td>\n",
              "      <td>WA</td>\n",
              "      <td>98101.0</td>\n",
              "      <td>0659000030</td>\n",
              "      <td>7</td>\n",
              "      <td>DOWNTOWN</td>\n",
              "      <td>47.61220</td>\n",
              "      <td>-122.33799</td>\n",
              "      <td>1927</td>\n",
              "      <td>1.0</td>\n",
              "      <td>12</td>\n",
              "      <td>88434</td>\n",
              "      <td>0</td>\n",
              "      <td>88434</td>\n",
              "      <td>Hotel</td>\n",
              "      <td>Hotel</td>\n",
              "      <td>88434.0</td>\n",
              "      <td>NaN</td>\n",
              "      <td>NaN</td>\n",
              "      <td>NaN</td>\n",
              "      <td>NaN</td>\n",
              "      <td>NaN</td>\n",
              "      <td>60.0</td>\n",
              "      <td>81.699997</td>\n",
              "      <td>84.300003</td>\n",
              "      <td>182.500000</td>\n",
              "      <td>189.000000</td>\n",
              "      <td>7226362.5</td>\n",
              "      <td>7456910.0</td>\n",
              "      <td>2003882.00</td>\n",
              "      <td>1.156514e+06</td>\n",
              "      <td>3946027.0</td>\n",
              "      <td>12764.52930</td>\n",
              "      <td>1276453.0</td>\n",
              "      <td>False</td>\n",
              "      <td>NaN</td>\n",
              "      <td>Compliant</td>\n",
              "      <td>NaN</td>\n",
              "      <td>249.98</td>\n",
              "      <td>2.83</td>\n",
              "    </tr>\n",
              "    <tr>\n",
              "      <th>1</th>\n",
              "      <td>2</td>\n",
              "      <td>2016</td>\n",
              "      <td>NonResidential</td>\n",
              "      <td>Hotel</td>\n",
              "      <td>Paramount Hotel</td>\n",
              "      <td>724 Pine street</td>\n",
              "      <td>Seattle</td>\n",
              "      <td>WA</td>\n",
              "      <td>98101.0</td>\n",
              "      <td>0659000220</td>\n",
              "      <td>7</td>\n",
              "      <td>DOWNTOWN</td>\n",
              "      <td>47.61317</td>\n",
              "      <td>-122.33393</td>\n",
              "      <td>1996</td>\n",
              "      <td>1.0</td>\n",
              "      <td>11</td>\n",
              "      <td>103566</td>\n",
              "      <td>15064</td>\n",
              "      <td>88502</td>\n",
              "      <td>Hotel, Parking, Restaurant</td>\n",
              "      <td>Hotel</td>\n",
              "      <td>83880.0</td>\n",
              "      <td>Parking</td>\n",
              "      <td>15064.0</td>\n",
              "      <td>Restaurant</td>\n",
              "      <td>4622.0</td>\n",
              "      <td>NaN</td>\n",
              "      <td>61.0</td>\n",
              "      <td>94.800003</td>\n",
              "      <td>97.900002</td>\n",
              "      <td>176.100006</td>\n",
              "      <td>179.399994</td>\n",
              "      <td>8387933.0</td>\n",
              "      <td>8664479.0</td>\n",
              "      <td>0.00</td>\n",
              "      <td>9.504252e+05</td>\n",
              "      <td>3242851.0</td>\n",
              "      <td>51450.81641</td>\n",
              "      <td>5145082.0</td>\n",
              "      <td>False</td>\n",
              "      <td>NaN</td>\n",
              "      <td>Compliant</td>\n",
              "      <td>NaN</td>\n",
              "      <td>295.86</td>\n",
              "      <td>2.86</td>\n",
              "    </tr>\n",
              "    <tr>\n",
              "      <th>2</th>\n",
              "      <td>3</td>\n",
              "      <td>2016</td>\n",
              "      <td>NonResidential</td>\n",
              "      <td>Hotel</td>\n",
              "      <td>5673-The Westin Seattle</td>\n",
              "      <td>1900 5th Avenue</td>\n",
              "      <td>Seattle</td>\n",
              "      <td>WA</td>\n",
              "      <td>98101.0</td>\n",
              "      <td>0659000475</td>\n",
              "      <td>7</td>\n",
              "      <td>DOWNTOWN</td>\n",
              "      <td>47.61393</td>\n",
              "      <td>-122.33810</td>\n",
              "      <td>1969</td>\n",
              "      <td>1.0</td>\n",
              "      <td>41</td>\n",
              "      <td>956110</td>\n",
              "      <td>196718</td>\n",
              "      <td>759392</td>\n",
              "      <td>Hotel</td>\n",
              "      <td>Hotel</td>\n",
              "      <td>756493.0</td>\n",
              "      <td>NaN</td>\n",
              "      <td>NaN</td>\n",
              "      <td>NaN</td>\n",
              "      <td>NaN</td>\n",
              "      <td>NaN</td>\n",
              "      <td>43.0</td>\n",
              "      <td>96.000000</td>\n",
              "      <td>97.699997</td>\n",
              "      <td>241.899994</td>\n",
              "      <td>244.100006</td>\n",
              "      <td>72587024.0</td>\n",
              "      <td>73937112.0</td>\n",
              "      <td>21566554.00</td>\n",
              "      <td>1.451544e+07</td>\n",
              "      <td>49526664.0</td>\n",
              "      <td>14938.00000</td>\n",
              "      <td>1493800.0</td>\n",
              "      <td>False</td>\n",
              "      <td>NaN</td>\n",
              "      <td>Compliant</td>\n",
              "      <td>NaN</td>\n",
              "      <td>2089.28</td>\n",
              "      <td>2.19</td>\n",
              "    </tr>\n",
              "    <tr>\n",
              "      <th>3</th>\n",
              "      <td>5</td>\n",
              "      <td>2016</td>\n",
              "      <td>NonResidential</td>\n",
              "      <td>Hotel</td>\n",
              "      <td>HOTEL MAX</td>\n",
              "      <td>620 STEWART ST</td>\n",
              "      <td>Seattle</td>\n",
              "      <td>WA</td>\n",
              "      <td>98101.0</td>\n",
              "      <td>0659000640</td>\n",
              "      <td>7</td>\n",
              "      <td>DOWNTOWN</td>\n",
              "      <td>47.61412</td>\n",
              "      <td>-122.33664</td>\n",
              "      <td>1926</td>\n",
              "      <td>1.0</td>\n",
              "      <td>10</td>\n",
              "      <td>61320</td>\n",
              "      <td>0</td>\n",
              "      <td>61320</td>\n",
              "      <td>Hotel</td>\n",
              "      <td>Hotel</td>\n",
              "      <td>61320.0</td>\n",
              "      <td>NaN</td>\n",
              "      <td>NaN</td>\n",
              "      <td>NaN</td>\n",
              "      <td>NaN</td>\n",
              "      <td>NaN</td>\n",
              "      <td>56.0</td>\n",
              "      <td>110.800003</td>\n",
              "      <td>113.300003</td>\n",
              "      <td>216.199997</td>\n",
              "      <td>224.000000</td>\n",
              "      <td>6794584.0</td>\n",
              "      <td>6946800.5</td>\n",
              "      <td>2214446.25</td>\n",
              "      <td>8.115253e+05</td>\n",
              "      <td>2768924.0</td>\n",
              "      <td>18112.13086</td>\n",
              "      <td>1811213.0</td>\n",
              "      <td>False</td>\n",
              "      <td>NaN</td>\n",
              "      <td>Compliant</td>\n",
              "      <td>NaN</td>\n",
              "      <td>286.43</td>\n",
              "      <td>4.67</td>\n",
              "    </tr>\n",
              "    <tr>\n",
              "      <th>4</th>\n",
              "      <td>8</td>\n",
              "      <td>2016</td>\n",
              "      <td>NonResidential</td>\n",
              "      <td>Hotel</td>\n",
              "      <td>WARWICK SEATTLE HOTEL (ID8)</td>\n",
              "      <td>401 LENORA ST</td>\n",
              "      <td>Seattle</td>\n",
              "      <td>WA</td>\n",
              "      <td>98121.0</td>\n",
              "      <td>0659000970</td>\n",
              "      <td>7</td>\n",
              "      <td>DOWNTOWN</td>\n",
              "      <td>47.61375</td>\n",
              "      <td>-122.34047</td>\n",
              "      <td>1980</td>\n",
              "      <td>1.0</td>\n",
              "      <td>18</td>\n",
              "      <td>175580</td>\n",
              "      <td>62000</td>\n",
              "      <td>113580</td>\n",
              "      <td>Hotel, Parking, Swimming Pool</td>\n",
              "      <td>Hotel</td>\n",
              "      <td>123445.0</td>\n",
              "      <td>Parking</td>\n",
              "      <td>68009.0</td>\n",
              "      <td>Swimming Pool</td>\n",
              "      <td>0.0</td>\n",
              "      <td>NaN</td>\n",
              "      <td>75.0</td>\n",
              "      <td>114.800003</td>\n",
              "      <td>118.699997</td>\n",
              "      <td>211.399994</td>\n",
              "      <td>215.600006</td>\n",
              "      <td>14172606.0</td>\n",
              "      <td>14656503.0</td>\n",
              "      <td>0.00</td>\n",
              "      <td>1.573449e+06</td>\n",
              "      <td>5368607.0</td>\n",
              "      <td>88039.98438</td>\n",
              "      <td>8803998.0</td>\n",
              "      <td>False</td>\n",
              "      <td>NaN</td>\n",
              "      <td>Compliant</td>\n",
              "      <td>NaN</td>\n",
              "      <td>505.01</td>\n",
              "      <td>2.88</td>\n",
              "    </tr>\n",
              "  </tbody>\n",
              "</table>\n",
              "</div>"
            ],
            "text/plain": [
              "   OSEBuildingID  DataYear  ... TotalGHGEmissions GHGEmissionsIntensity\n",
              "0              1      2016  ...            249.98                  2.83\n",
              "1              2      2016  ...            295.86                  2.86\n",
              "2              3      2016  ...           2089.28                  2.19\n",
              "3              5      2016  ...            286.43                  4.67\n",
              "4              8      2016  ...            505.01                  2.88\n",
              "\n",
              "[5 rows x 46 columns]"
            ]
          },
          "metadata": {
            "tags": []
          },
          "execution_count": 7
        }
      ]
    },
    {
      "cell_type": "code",
      "metadata": {
        "id": "MBAOsTyWnr3G",
        "colab_type": "code",
        "colab": {
          "base_uri": "https://localhost:8080/",
          "height": 51
        },
        "outputId": "64ce2ce1-7c93-411f-db2c-ed123f7d25f0"
      },
      "source": [
        "#nb entrée\n",
        "print('2015 :',len(data_2015))\n",
        "print('2016 :',len(data_2016))"
      ],
      "execution_count": null,
      "outputs": [
        {
          "output_type": "stream",
          "text": [
            "2015 : 3340\n",
            "2016 : 3376\n"
          ],
          "name": "stdout"
        }
      ]
    },
    {
      "cell_type": "code",
      "metadata": {
        "id": "_O76mCtKn80P",
        "colab_type": "code",
        "colab": {
          "base_uri": "https://localhost:8080/",
          "height": 51
        },
        "outputId": "932062a3-f326-4ee0-cd36-5836df138fe0"
      },
      "source": [
        "#nombre d'indicateur\n",
        "print('2015 :',len(data_2015.columns))\n",
        "print('2016 :',len(data_2016.columns))"
      ],
      "execution_count": null,
      "outputs": [
        {
          "output_type": "stream",
          "text": [
            "2015 : 47\n",
            "2016 : 46\n"
          ],
          "name": "stdout"
        }
      ]
    },
    {
      "cell_type": "code",
      "metadata": {
        "id": "uWRv-uFEs_8k",
        "colab_type": "code",
        "colab": {
          "base_uri": "https://localhost:8080/",
          "height": 612
        },
        "outputId": "a53a3973-9b4b-449a-d80a-ecd7b04e6dad"
      },
      "source": [
        "t_2015=data_2015.T\n",
        "ind_2015=t_2015.index\n",
        "ind_2015=ind_2015.sort_values()\n",
        "print('ind 2015:',ind_2015)\n",
        "\n",
        "t_2016=data_2016.T\n",
        "ind_2016=t_2016.index\n",
        "ind_2016=ind_2016.sort_values()\n",
        "print('ind 2016:',ind_2016)"
      ],
      "execution_count": null,
      "outputs": [
        {
          "output_type": "stream",
          "text": [
            "ind 2015: Index(['2010 Census Tracts', 'BuildingType', 'City Council Districts',\n",
            "       'Comment', 'ComplianceStatus', 'CouncilDistrictCode', 'DataYear',\n",
            "       'DefaultData', 'ENERGYSTARScore', 'Electricity(kBtu)',\n",
            "       'Electricity(kWh)', 'GHGEmissions(MetricTonsCO2e)',\n",
            "       'GHGEmissionsIntensity(kgCO2e/ft2)', 'LargestPropertyUseType',\n",
            "       'LargestPropertyUseTypeGFA', 'ListOfAllPropertyUseTypes', 'Location',\n",
            "       'NaturalGas(kBtu)', 'NaturalGas(therms)', 'Neighborhood',\n",
            "       'NumberofBuildings', 'NumberofFloors', 'OSEBuildingID',\n",
            "       'OtherFuelUse(kBtu)', 'Outlier', 'PrimaryPropertyType',\n",
            "       'PropertyGFABuilding(s)', 'PropertyGFAParking', 'PropertyGFATotal',\n",
            "       'PropertyName', 'SPD Beats',\n",
            "       'Seattle Police Department Micro Community Policing Plan Areas',\n",
            "       'SecondLargestPropertyUseType', 'SecondLargestPropertyUseTypeGFA',\n",
            "       'SiteEUI(kBtu/sf)', 'SiteEUIWN(kBtu/sf)', 'SiteEnergyUse(kBtu)',\n",
            "       'SiteEnergyUseWN(kBtu)', 'SourceEUI(kBtu/sf)', 'SourceEUIWN(kBtu/sf)',\n",
            "       'SteamUse(kBtu)', 'TaxParcelIdentificationNumber',\n",
            "       'ThirdLargestPropertyUseType', 'ThirdLargestPropertyUseTypeGFA',\n",
            "       'YearBuilt', 'YearsENERGYSTARCertified', 'Zip Codes'],\n",
            "      dtype='object')\n",
            "ind 2016: Index(['Address', 'BuildingType', 'City', 'Comments', 'ComplianceStatus',\n",
            "       'CouncilDistrictCode', 'DataYear', 'DefaultData', 'ENERGYSTARScore',\n",
            "       'Electricity(kBtu)', 'Electricity(kWh)', 'GHGEmissionsIntensity',\n",
            "       'LargestPropertyUseType', 'LargestPropertyUseTypeGFA', 'Latitude',\n",
            "       'ListOfAllPropertyUseTypes', 'Longitude', 'NaturalGas(kBtu)',\n",
            "       'NaturalGas(therms)', 'Neighborhood', 'NumberofBuildings',\n",
            "       'NumberofFloors', 'OSEBuildingID', 'Outlier', 'PrimaryPropertyType',\n",
            "       'PropertyGFABuilding(s)', 'PropertyGFAParking', 'PropertyGFATotal',\n",
            "       'PropertyName', 'SecondLargestPropertyUseType',\n",
            "       'SecondLargestPropertyUseTypeGFA', 'SiteEUI(kBtu/sf)',\n",
            "       'SiteEUIWN(kBtu/sf)', 'SiteEnergyUse(kBtu)', 'SiteEnergyUseWN(kBtu)',\n",
            "       'SourceEUI(kBtu/sf)', 'SourceEUIWN(kBtu/sf)', 'State', 'SteamUse(kBtu)',\n",
            "       'TaxParcelIdentificationNumber', 'ThirdLargestPropertyUseType',\n",
            "       'ThirdLargestPropertyUseTypeGFA', 'TotalGHGEmissions', 'YearBuilt',\n",
            "       'YearsENERGYSTARCertified', 'ZipCode'],\n",
            "      dtype='object')\n"
          ],
          "name": "stdout"
        }
      ]
    },
    {
      "cell_type": "code",
      "metadata": {
        "id": "PbeEZNIa2YY5",
        "colab_type": "code",
        "colab": {
          "base_uri": "https://localhost:8080/",
          "height": 408
        },
        "outputId": "e6fc8682-5552-4dcc-94f2-6bd51473f6fa"
      },
      "source": [
        "print('les élements suivants n\\'apparaissent plus en 2016 :')\n",
        "for i in ind_2015:\n",
        "  if i not in ind_2016:\n",
        "    print (i)\n",
        "print('\\n')\n",
        "print('les élements suivants ont été ajouté depuis 2015 :')\n",
        "for i in ind_2016:\n",
        "  if i not in ind_2015:\n",
        "    print (i)"
      ],
      "execution_count": null,
      "outputs": [
        {
          "output_type": "stream",
          "text": [
            "les élements suivants n'apparaissent plus en 2016 :\n",
            "Zip Codes\n",
            "GHGEmissions(MetricTonsCO2e)\n",
            "2010 Census Tracts\n",
            "GHGEmissionsIntensity(kgCO2e/ft2)\n",
            "Location\n",
            "OtherFuelUse(kBtu)\n",
            "Comment\n",
            "SPD Beats\n",
            "City Council Districts\n",
            "Seattle Police Department Micro Community Policing Plan Areas\n",
            "\n",
            "\n",
            "les élements suivants ont été ajouté depuis 2015 :\n",
            "Address\n",
            "Comments\n",
            "City\n",
            "TotalGHGEmissions\n",
            "State\n",
            "Longitude\n",
            "Latitude\n",
            "GHGEmissionsIntensity\n",
            "ZipCode\n"
          ],
          "name": "stdout"
        }
      ]
    },
    {
      "cell_type": "markdown",
      "metadata": {
        "id": "i48Vvw4B-eJr",
        "colab_type": "text"
      },
      "source": [
        "analyse 'colonne'"
      ]
    },
    {
      "cell_type": "code",
      "metadata": {
        "id": "GB3iC8JF9Oy_",
        "colab_type": "code",
        "colab": {
          "base_uri": "https://localhost:8080/",
          "height": 292
        },
        "outputId": "c7646452-bc3a-4264-887c-3d79717aafbf"
      },
      "source": [
        "data_2015['Comment'].unique()"
      ],
      "execution_count": null,
      "outputs": [
        {
          "output_type": "execute_result",
          "data": {
            "text/plain": [
              "array([nan,\n",
              "       'Under construction starting 6/2013 (old building demolished) and ending 9/2016. New Building re-opened 9/2016. Year built changed from 1948 to 2016.',\n",
              "       \"Part of McKinstry's campus, property operates a fabrication and production shop and is conditioned by natural gas overhead radiant unit heaters with no cooling. Learn more at www.mckinstry.com.\",\n",
              "       \"One of two office buildings on McKinstry's campus partially remodeled in 2009 from warehouse to office space. Served by rooftop air handling units with underfloor VAVs.  Self-performed energy efficiency upgrades in 2015 include a long-term LED lighting re\",\n",
              "       'Part of McKinstry’s campus, this remodeled warehouse is mainly office but includes a full-size basketball court and gym with locker rooms, bistro with a full kitchen, and data center. Served by rooftop package units for heating and cooling. Upgrades inclu',\n",
              "       'Construction completed in mid 2015. The building was unoccupied for most of 2015.',\n",
              "       'Under construction starting 6/2013 (old building demolished) and ending 9/2016. New Building re-opened 9/2016.  Year built changed from 1950 to 2016.',\n",
              "       'Under construction starting 6/2013 (old building demolished) and ending 9/2016. New Building re-opened 9/2016. Year built changed from 1949 to 2016.',\n",
              "       'Under construction starting 6/2015 (old building demolished) and ending 9/2017. New Building re-opens 9/2017. Year built changed from 1954 to 2017.',\n",
              "       'Under construction starting 09/2014 (old building demolished) and ending 9/2017. New Buildings (two) re-open 9/2017. Year built changed from 1953 to 2017.',\n",
              "       \"Part of McKinstry's campus, the office space for this building sites on the 3rd floor above a 2-story parking garage and is served by rooftop package units for both heating and cooling. Learn more at www.mckinstryinnovationcenter.com.\",\n",
              "       \"Part of McKinstry's campus, property includes a warehouse, a local pipe supplier, and a local insulation contractor.  Learn more at www.mckinstry.com.\",\n",
              "       'Property now has two buildings: Thornton Creek Elementary School and the Decatur Building. New Thornton Creek Elementary built on Decatur Property and under construction from 6/2013 - 9/2016.',\n",
              "       'Recent energy efficiency upgrades include replaced toilets with low flow models in all units and participation in lighting rebate program to replace bulbs with CFLs or LEDs. Future improvements include whole building window replacement in 2016.'],\n",
              "      dtype=object)"
            ]
          },
          "metadata": {
            "tags": []
          },
          "execution_count": 93
        }
      ]
    },
    {
      "cell_type": "code",
      "metadata": {
        "id": "AlkUseBg8cTI",
        "colab_type": "code",
        "colab": {
          "base_uri": "https://localhost:8080/",
          "height": 34
        },
        "outputId": "8d503001-1241-4ea6-c67d-03fc07a2d1a9"
      },
      "source": [
        "data_2016['Comments'].unique()"
      ],
      "execution_count": null,
      "outputs": [
        {
          "output_type": "execute_result",
          "data": {
            "text/plain": [
              "array([nan])"
            ]
          },
          "metadata": {
            "tags": []
          },
          "execution_count": 94
        }
      ]
    },
    {
      "cell_type": "code",
      "metadata": {
        "id": "Ow5S0kKPMO4K",
        "colab_type": "code",
        "colab": {}
      },
      "source": [
        "data_2015=data_2015.drop('Comment',axis=1)\n",
        "data_2016=data_2016.drop('Comments',axis=1)"
      ],
      "execution_count": null,
      "outputs": []
    },
    {
      "cell_type": "markdown",
      "metadata": {
        "id": "PPeySvkK-k0r",
        "colab_type": "text"
      },
      "source": [
        "analyse colonne 'Location'"
      ]
    },
    {
      "cell_type": "code",
      "metadata": {
        "id": "J-rxTNjE8chf",
        "colab_type": "code",
        "colab": {
          "base_uri": "https://localhost:8080/",
          "height": 173
        },
        "outputId": "6bfee5bb-4959-4df6-a310-74c302ba0268"
      },
      "source": [
        "data_2015['Location'].values"
      ],
      "execution_count": null,
      "outputs": [
        {
          "output_type": "execute_result",
          "data": {
            "text/plain": [
              "array(['{\\'latitude\\': \\'47.61219025\\', \\'longitude\\': \\'-122.33799744\\', \\'human_address\\': \\'{\"address\": \"405 OLIVE WAY\", \"city\": \"SEATTLE\", \"state\": \"WA\", \"zip\": \"98101\"}\\'}',\n",
              "       '{\\'latitude\\': \\'47.61310583\\', \\'longitude\\': \\'-122.33335756\\', \\'human_address\\': \\'{\"address\": \"724 PINE ST\", \"city\": \"SEATTLE\", \"state\": \"WA\", \"zip\": \"98101\"}\\'}',\n",
              "       '{\\'latitude\\': \\'47.61334897\\', \\'longitude\\': \\'-122.33769944\\', \\'human_address\\': \\'{\"address\": \"1900 5TH AVE\", \"city\": \"SEATTLE\", \"state\": \"WA\", \"zip\": \"98101\"}\\'}',\n",
              "       ...,\n",
              "       '{\\'latitude\\': \\'47.61649845\\', \\'longitude\\': \\'-122.33770787\\', \\'human_address\\': \\'{\"address\": \"2030 8TH AVE\", \"city\": \"SEATTLE\", \"state\": \"WA\", \"zip\": \"98121\"}\\'}',\n",
              "       '{\\'latitude\\': \\'47.68396954\\', \\'longitude\\': \\'-122.2874088\\', \\'human_address\\': \\'{\"address\": \"3801 NE 77TH ST\", \"city\": \"SEATTLE\", \"state\": \"WA\", \"zip\": \"98115\"}\\'}',\n",
              "       '{\\'latitude\\': \\'47.68396954\\', \\'longitude\\': \\'-122.2874088\\', \\'human_address\\': \\'{\"address\": \"7540 37TH AVE NE\", \"city\": \"SEATTLE\", \"state\": \"WA\", \"zip\": \"98115\"}\\'}'],\n",
              "      dtype=object)"
            ]
          },
          "metadata": {
            "tags": []
          },
          "execution_count": 98
        }
      ]
    },
    {
      "cell_type": "code",
      "metadata": {
        "id": "IYfaNr8qOWJK",
        "colab_type": "code",
        "colab": {}
      },
      "source": [
        "# Extraction des datas de localisation depuis la colonnes 'Location'"
      ],
      "execution_count": null,
      "outputs": []
    },
    {
      "cell_type": "code",
      "metadata": {
        "id": "rueoe2Pm8cOn",
        "colab_type": "code",
        "colab": {}
      },
      "source": [
        "def location_extract(set_frame):\n",
        "  frame=set_frame.copy()\n",
        "  import ast\n",
        "\n",
        "  info_location = pd.DataFrame(columns=['Latitude','Longitude','Address','City','State','ZipCode'])\n",
        "  \n",
        "  for n in range(len(frame)):\n",
        "\n",
        "    loc_info=ast.literal_eval(frame.loc[n,'Location'])\n",
        "    loc_info=pd.json_normalize(loc_info)\n",
        "    add_info=ast.literal_eval(loc_info.loc[0,'human_address'])\n",
        "    add_info=pd.json_normalize(add_info)\n",
        "\n",
        "    info_location.loc[n,'Latitude']=loc_info.loc[0,'latitude']\n",
        "    info_location.loc[n,'Longitude']=loc_info.loc[0,'longitude']\n",
        "    info_location.loc[n,'Address']=add_info.loc[0,'address']\n",
        "    info_location.loc[n,'City']=add_info.loc[0,'city']\n",
        "    info_location.loc[n,'State']=add_info.loc[0,'state']\n",
        "    info_location.loc[n,'ZipCode']=add_info.loc[0,'zip']\n",
        "\n",
        "  frame_merge=pd.concat([frame,info_location],axis=1)\n",
        "  frame_merge=frame_merge.drop(['Location','Zip Codes'],axis=1)\n",
        "\n",
        "  return frame_merge"
      ],
      "execution_count": null,
      "outputs": []
    },
    {
      "cell_type": "code",
      "metadata": {
        "id": "_nYCsGsPHDkz",
        "colab_type": "code",
        "colab": {}
      },
      "source": [
        "data_2015_location=location_extract(data_2015)"
      ],
      "execution_count": null,
      "outputs": []
    },
    {
      "cell_type": "code",
      "metadata": {
        "id": "WKZStDHxMFUo",
        "colab_type": "code",
        "colab": {}
      },
      "source": [
        ""
      ],
      "execution_count": null,
      "outputs": []
    },
    {
      "cell_type": "markdown",
      "metadata": {
        "id": "q4fR89kvNreK",
        "colab_type": "text"
      },
      "source": [
        "analyse colonnes GHGE"
      ]
    },
    {
      "cell_type": "code",
      "metadata": {
        "id": "X6i4WEiWNvLb",
        "colab_type": "code",
        "colab": {
          "base_uri": "https://localhost:8080/",
          "height": 297
        },
        "outputId": "07a86749-c0e2-4d5f-8760-a4c0221889bc"
      },
      "source": [
        "data_2015_location[['GHGEmissions(MetricTonsCO2e)','GHGEmissionsIntensity(kgCO2e/ft2)']].describe()"
      ],
      "execution_count": null,
      "outputs": [
        {
          "output_type": "execute_result",
          "data": {
            "text/html": [
              "<div>\n",
              "<style scoped>\n",
              "    .dataframe tbody tr th:only-of-type {\n",
              "        vertical-align: middle;\n",
              "    }\n",
              "\n",
              "    .dataframe tbody tr th {\n",
              "        vertical-align: top;\n",
              "    }\n",
              "\n",
              "    .dataframe thead th {\n",
              "        text-align: right;\n",
              "    }\n",
              "</style>\n",
              "<table border=\"1\" class=\"dataframe\">\n",
              "  <thead>\n",
              "    <tr style=\"text-align: right;\">\n",
              "      <th></th>\n",
              "      <th>GHGEmissions(MetricTonsCO2e)</th>\n",
              "      <th>GHGEmissionsIntensity(kgCO2e/ft2)</th>\n",
              "    </tr>\n",
              "  </thead>\n",
              "  <tbody>\n",
              "    <tr>\n",
              "      <th>count</th>\n",
              "      <td>3330.000000</td>\n",
              "      <td>3330.000000</td>\n",
              "    </tr>\n",
              "    <tr>\n",
              "      <th>mean</th>\n",
              "      <td>110.094102</td>\n",
              "      <td>0.985339</td>\n",
              "    </tr>\n",
              "    <tr>\n",
              "      <th>std</th>\n",
              "      <td>409.450179</td>\n",
              "      <td>1.637172</td>\n",
              "    </tr>\n",
              "    <tr>\n",
              "      <th>min</th>\n",
              "      <td>0.000000</td>\n",
              "      <td>0.000000</td>\n",
              "    </tr>\n",
              "    <tr>\n",
              "      <th>25%</th>\n",
              "      <td>9.265000</td>\n",
              "      <td>0.080000</td>\n",
              "    </tr>\n",
              "    <tr>\n",
              "      <th>50%</th>\n",
              "      <td>32.740000</td>\n",
              "      <td>0.460000</td>\n",
              "    </tr>\n",
              "    <tr>\n",
              "      <th>75%</th>\n",
              "      <td>88.642500</td>\n",
              "      <td>1.180000</td>\n",
              "    </tr>\n",
              "    <tr>\n",
              "      <th>max</th>\n",
              "      <td>11824.890000</td>\n",
              "      <td>31.380000</td>\n",
              "    </tr>\n",
              "  </tbody>\n",
              "</table>\n",
              "</div>"
            ],
            "text/plain": [
              "       GHGEmissions(MetricTonsCO2e)  GHGEmissionsIntensity(kgCO2e/ft2)\n",
              "count                   3330.000000                        3330.000000\n",
              "mean                     110.094102                           0.985339\n",
              "std                      409.450179                           1.637172\n",
              "min                        0.000000                           0.000000\n",
              "25%                        9.265000                           0.080000\n",
              "50%                       32.740000                           0.460000\n",
              "75%                       88.642500                           1.180000\n",
              "max                    11824.890000                          31.380000"
            ]
          },
          "metadata": {
            "tags": []
          },
          "execution_count": 150
        }
      ]
    },
    {
      "cell_type": "code",
      "metadata": {
        "id": "H9ShP3HhOFDy",
        "colab_type": "code",
        "colab": {
          "base_uri": "https://localhost:8080/",
          "height": 297
        },
        "outputId": "113ae855-75fa-4463-c0ea-72dda03fb2f3"
      },
      "source": [
        "data_2016[['TotalGHGEmissions','GHGEmissionsIntensity']].describe()"
      ],
      "execution_count": null,
      "outputs": [
        {
          "output_type": "execute_result",
          "data": {
            "text/html": [
              "<div>\n",
              "<style scoped>\n",
              "    .dataframe tbody tr th:only-of-type {\n",
              "        vertical-align: middle;\n",
              "    }\n",
              "\n",
              "    .dataframe tbody tr th {\n",
              "        vertical-align: top;\n",
              "    }\n",
              "\n",
              "    .dataframe thead th {\n",
              "        text-align: right;\n",
              "    }\n",
              "</style>\n",
              "<table border=\"1\" class=\"dataframe\">\n",
              "  <thead>\n",
              "    <tr style=\"text-align: right;\">\n",
              "      <th></th>\n",
              "      <th>TotalGHGEmissions</th>\n",
              "      <th>GHGEmissionsIntensity</th>\n",
              "    </tr>\n",
              "  </thead>\n",
              "  <tbody>\n",
              "    <tr>\n",
              "      <th>count</th>\n",
              "      <td>3367.000000</td>\n",
              "      <td>3367.000000</td>\n",
              "    </tr>\n",
              "    <tr>\n",
              "      <th>mean</th>\n",
              "      <td>119.723971</td>\n",
              "      <td>1.175916</td>\n",
              "    </tr>\n",
              "    <tr>\n",
              "      <th>std</th>\n",
              "      <td>538.832227</td>\n",
              "      <td>1.821452</td>\n",
              "    </tr>\n",
              "    <tr>\n",
              "      <th>min</th>\n",
              "      <td>-0.800000</td>\n",
              "      <td>-0.020000</td>\n",
              "    </tr>\n",
              "    <tr>\n",
              "      <th>25%</th>\n",
              "      <td>9.495000</td>\n",
              "      <td>0.210000</td>\n",
              "    </tr>\n",
              "    <tr>\n",
              "      <th>50%</th>\n",
              "      <td>33.920000</td>\n",
              "      <td>0.610000</td>\n",
              "    </tr>\n",
              "    <tr>\n",
              "      <th>75%</th>\n",
              "      <td>93.940000</td>\n",
              "      <td>1.370000</td>\n",
              "    </tr>\n",
              "    <tr>\n",
              "      <th>max</th>\n",
              "      <td>16870.980000</td>\n",
              "      <td>34.090000</td>\n",
              "    </tr>\n",
              "  </tbody>\n",
              "</table>\n",
              "</div>"
            ],
            "text/plain": [
              "       TotalGHGEmissions  GHGEmissionsIntensity\n",
              "count        3367.000000            3367.000000\n",
              "mean          119.723971               1.175916\n",
              "std           538.832227               1.821452\n",
              "min            -0.800000              -0.020000\n",
              "25%             9.495000               0.210000\n",
              "50%            33.920000               0.610000\n",
              "75%            93.940000               1.370000\n",
              "max         16870.980000              34.090000"
            ]
          },
          "metadata": {
            "tags": []
          },
          "execution_count": 152
        }
      ]
    },
    {
      "cell_type": "code",
      "metadata": {
        "id": "v8fCV7lEOPRi",
        "colab_type": "code",
        "colab": {}
      },
      "source": [
        "# En regardant les ordres de grandeurs on peut renommer les colonnes"
      ],
      "execution_count": null,
      "outputs": []
    },
    {
      "cell_type": "code",
      "metadata": {
        "id": "KEsAARaeo4DR",
        "colab_type": "code",
        "colab": {}
      },
      "source": [
        "data_2015_location=data_2015_location.rename(columns={\"GHGEmissions(MetricTonsCO2e)\":\"TotalGHGEmissions\",\"GHGEmissionsIntensity(kgCO2e/ft2)\":\"GHGEmissionsIntensity\"})"
      ],
      "execution_count": null,
      "outputs": []
    },
    {
      "cell_type": "markdown",
      "metadata": {
        "id": "CIDGtanBOhN5",
        "colab_type": "text"
      },
      "source": [
        "Fusion des deux data set"
      ]
    },
    {
      "cell_type": "code",
      "metadata": {
        "id": "CcPYulkrOkVJ",
        "colab_type": "code",
        "colab": {}
      },
      "source": [
        "# vérification des colonnes"
      ],
      "execution_count": null,
      "outputs": []
    },
    {
      "cell_type": "code",
      "metadata": {
        "id": "IaJiYvmiNf1D",
        "colab_type": "code",
        "colab": {}
      },
      "source": [
        "data_2015_location=data_2015_location.drop(['2010 Census Tracts', 'OtherFuelUse(kBtu)', 'SPD Beats', 'City Council Districts', 'Seattle Police Department Micro Community Policing Plan Areas'],axis=1)"
      ],
      "execution_count": null,
      "outputs": []
    },
    {
      "cell_type": "code",
      "metadata": {
        "id": "NZlvzCtSPV2Q",
        "colab_type": "code",
        "colab": {
          "base_uri": "https://localhost:8080/",
          "height": 104
        },
        "outputId": "6cf1fe39-3af3-415d-b160-a2a93baa838d"
      },
      "source": [
        "print('les élements suivants n\\'apparaissent plus en 2016 : \\n', set(data_2015_location.columns) - set(data_2016.columns))\n",
        "print('-'*35)\n",
        "print('les élements suivants ont été ajouté depuis 2015  : \\n', set(data_2016.columns) - set(data_2015_location.columns))"
      ],
      "execution_count": null,
      "outputs": [
        {
          "output_type": "stream",
          "text": [
            "les élements suivants n'apparaissent plus en 2016 : \n",
            " set()\n",
            "-----------------------------------\n",
            "les élements suivants ont été ajouté depuis 2015  : \n",
            " set()\n"
          ],
          "name": "stdout"
        }
      ]
    },
    {
      "cell_type": "code",
      "metadata": {
        "id": "YLLsyaqNPw_w",
        "colab_type": "code",
        "colab": {
          "base_uri": "https://localhost:8080/",
          "height": 51
        },
        "outputId": "324be63e-c103-43d1-be0f-c05aee1719cb"
      },
      "source": [
        "print('2015 :', data_2015_location.shape)\n",
        "print('2016 :', data_2016.shape)"
      ],
      "execution_count": null,
      "outputs": [
        {
          "output_type": "stream",
          "text": [
            "2015 : (3340, 45)\n",
            "2016 : (3376, 45)\n"
          ],
          "name": "stdout"
        }
      ]
    },
    {
      "cell_type": "code",
      "metadata": {
        "id": "gc_U00RLPbXH",
        "colab_type": "code",
        "colab": {
          "base_uri": "https://localhost:8080/",
          "height": 344
        },
        "outputId": "f244888e-abd9-442f-e247-924761da22f8"
      },
      "source": [
        "data=pd.concat([data_2015_location,data_2016], axis=0, sort=False)\n",
        "data.head()"
      ],
      "execution_count": null,
      "outputs": [
        {
          "output_type": "execute_result",
          "data": {
            "text/html": [
              "<div>\n",
              "<style scoped>\n",
              "    .dataframe tbody tr th:only-of-type {\n",
              "        vertical-align: middle;\n",
              "    }\n",
              "\n",
              "    .dataframe tbody tr th {\n",
              "        vertical-align: top;\n",
              "    }\n",
              "\n",
              "    .dataframe thead th {\n",
              "        text-align: right;\n",
              "    }\n",
              "</style>\n",
              "<table border=\"1\" class=\"dataframe\">\n",
              "  <thead>\n",
              "    <tr style=\"text-align: right;\">\n",
              "      <th></th>\n",
              "      <th>OSEBuildingID</th>\n",
              "      <th>DataYear</th>\n",
              "      <th>BuildingType</th>\n",
              "      <th>PrimaryPropertyType</th>\n",
              "      <th>PropertyName</th>\n",
              "      <th>TaxParcelIdentificationNumber</th>\n",
              "      <th>CouncilDistrictCode</th>\n",
              "      <th>Neighborhood</th>\n",
              "      <th>YearBuilt</th>\n",
              "      <th>NumberofBuildings</th>\n",
              "      <th>NumberofFloors</th>\n",
              "      <th>PropertyGFATotal</th>\n",
              "      <th>PropertyGFAParking</th>\n",
              "      <th>PropertyGFABuilding(s)</th>\n",
              "      <th>ListOfAllPropertyUseTypes</th>\n",
              "      <th>LargestPropertyUseType</th>\n",
              "      <th>LargestPropertyUseTypeGFA</th>\n",
              "      <th>SecondLargestPropertyUseType</th>\n",
              "      <th>SecondLargestPropertyUseTypeGFA</th>\n",
              "      <th>ThirdLargestPropertyUseType</th>\n",
              "      <th>ThirdLargestPropertyUseTypeGFA</th>\n",
              "      <th>YearsENERGYSTARCertified</th>\n",
              "      <th>ENERGYSTARScore</th>\n",
              "      <th>SiteEUI(kBtu/sf)</th>\n",
              "      <th>SiteEUIWN(kBtu/sf)</th>\n",
              "      <th>SourceEUI(kBtu/sf)</th>\n",
              "      <th>SourceEUIWN(kBtu/sf)</th>\n",
              "      <th>SiteEnergyUse(kBtu)</th>\n",
              "      <th>SiteEnergyUseWN(kBtu)</th>\n",
              "      <th>SteamUse(kBtu)</th>\n",
              "      <th>Electricity(kWh)</th>\n",
              "      <th>Electricity(kBtu)</th>\n",
              "      <th>NaturalGas(therms)</th>\n",
              "      <th>NaturalGas(kBtu)</th>\n",
              "      <th>TotalGHGEmissions</th>\n",
              "      <th>GHGEmissionsIntensity</th>\n",
              "      <th>DefaultData</th>\n",
              "      <th>ComplianceStatus</th>\n",
              "      <th>Outlier</th>\n",
              "      <th>Latitude</th>\n",
              "      <th>Longitude</th>\n",
              "      <th>Address</th>\n",
              "      <th>City</th>\n",
              "      <th>State</th>\n",
              "      <th>ZipCode</th>\n",
              "    </tr>\n",
              "  </thead>\n",
              "  <tbody>\n",
              "    <tr>\n",
              "      <th>0</th>\n",
              "      <td>1</td>\n",
              "      <td>2015</td>\n",
              "      <td>NonResidential</td>\n",
              "      <td>Hotel</td>\n",
              "      <td>MAYFLOWER PARK HOTEL</td>\n",
              "      <td>659000030</td>\n",
              "      <td>7</td>\n",
              "      <td>DOWNTOWN</td>\n",
              "      <td>1927</td>\n",
              "      <td>1.0</td>\n",
              "      <td>12.0</td>\n",
              "      <td>88434</td>\n",
              "      <td>0</td>\n",
              "      <td>88434</td>\n",
              "      <td>Hotel</td>\n",
              "      <td>Hotel</td>\n",
              "      <td>88434.0</td>\n",
              "      <td>NaN</td>\n",
              "      <td>NaN</td>\n",
              "      <td>NaN</td>\n",
              "      <td>NaN</td>\n",
              "      <td>NaN</td>\n",
              "      <td>65.0</td>\n",
              "      <td>78.9</td>\n",
              "      <td>80.3</td>\n",
              "      <td>173.5</td>\n",
              "      <td>175.1</td>\n",
              "      <td>6981428.0</td>\n",
              "      <td>7097539.0</td>\n",
              "      <td>2023032.0</td>\n",
              "      <td>1080307.0</td>\n",
              "      <td>3686160.0</td>\n",
              "      <td>12724.0</td>\n",
              "      <td>1272388.0</td>\n",
              "      <td>249.43</td>\n",
              "      <td>2.64</td>\n",
              "      <td>No</td>\n",
              "      <td>Compliant</td>\n",
              "      <td>NaN</td>\n",
              "      <td>47.61219025</td>\n",
              "      <td>-122.33799744</td>\n",
              "      <td>405 OLIVE WAY</td>\n",
              "      <td>SEATTLE</td>\n",
              "      <td>WA</td>\n",
              "      <td>98101</td>\n",
              "    </tr>\n",
              "    <tr>\n",
              "      <th>1</th>\n",
              "      <td>2</td>\n",
              "      <td>2015</td>\n",
              "      <td>NonResidential</td>\n",
              "      <td>Hotel</td>\n",
              "      <td>PARAMOUNT HOTEL</td>\n",
              "      <td>659000220</td>\n",
              "      <td>7</td>\n",
              "      <td>DOWNTOWN</td>\n",
              "      <td>1996</td>\n",
              "      <td>1.0</td>\n",
              "      <td>11.0</td>\n",
              "      <td>103566</td>\n",
              "      <td>15064</td>\n",
              "      <td>88502</td>\n",
              "      <td>Hotel, Parking, Restaurant</td>\n",
              "      <td>Hotel</td>\n",
              "      <td>83880.0</td>\n",
              "      <td>Parking</td>\n",
              "      <td>15064.0</td>\n",
              "      <td>Restaurant</td>\n",
              "      <td>4622.0</td>\n",
              "      <td>NaN</td>\n",
              "      <td>51.0</td>\n",
              "      <td>94.4</td>\n",
              "      <td>99.0</td>\n",
              "      <td>191.3</td>\n",
              "      <td>195.2</td>\n",
              "      <td>8354235.0</td>\n",
              "      <td>8765788.0</td>\n",
              "      <td>0.0</td>\n",
              "      <td>1144563.0</td>\n",
              "      <td>3905411.0</td>\n",
              "      <td>44490.0</td>\n",
              "      <td>4448985.0</td>\n",
              "      <td>263.51</td>\n",
              "      <td>2.38</td>\n",
              "      <td>No</td>\n",
              "      <td>Compliant</td>\n",
              "      <td>NaN</td>\n",
              "      <td>47.61310583</td>\n",
              "      <td>-122.33335756</td>\n",
              "      <td>724 PINE ST</td>\n",
              "      <td>SEATTLE</td>\n",
              "      <td>WA</td>\n",
              "      <td>98101</td>\n",
              "    </tr>\n",
              "    <tr>\n",
              "      <th>2</th>\n",
              "      <td>3</td>\n",
              "      <td>2015</td>\n",
              "      <td>NonResidential</td>\n",
              "      <td>Hotel</td>\n",
              "      <td>WESTIN HOTEL</td>\n",
              "      <td>659000475</td>\n",
              "      <td>7</td>\n",
              "      <td>DOWNTOWN</td>\n",
              "      <td>1969</td>\n",
              "      <td>1.0</td>\n",
              "      <td>41.0</td>\n",
              "      <td>961990</td>\n",
              "      <td>0</td>\n",
              "      <td>961990</td>\n",
              "      <td>Hotel, Parking, Swimming Pool</td>\n",
              "      <td>Hotel</td>\n",
              "      <td>757243.0</td>\n",
              "      <td>Parking</td>\n",
              "      <td>100000.0</td>\n",
              "      <td>Swimming Pool</td>\n",
              "      <td>0.0</td>\n",
              "      <td>NaN</td>\n",
              "      <td>18.0</td>\n",
              "      <td>96.6</td>\n",
              "      <td>99.7</td>\n",
              "      <td>242.7</td>\n",
              "      <td>246.5</td>\n",
              "      <td>73130656.0</td>\n",
              "      <td>75506272.0</td>\n",
              "      <td>19660404.0</td>\n",
              "      <td>14583930.0</td>\n",
              "      <td>49762435.0</td>\n",
              "      <td>37099.0</td>\n",
              "      <td>3709900.0</td>\n",
              "      <td>2061.48</td>\n",
              "      <td>1.92</td>\n",
              "      <td>Yes</td>\n",
              "      <td>Compliant</td>\n",
              "      <td>NaN</td>\n",
              "      <td>47.61334897</td>\n",
              "      <td>-122.33769944</td>\n",
              "      <td>1900 5TH AVE</td>\n",
              "      <td>SEATTLE</td>\n",
              "      <td>WA</td>\n",
              "      <td>98101</td>\n",
              "    </tr>\n",
              "    <tr>\n",
              "      <th>3</th>\n",
              "      <td>5</td>\n",
              "      <td>2015</td>\n",
              "      <td>NonResidential</td>\n",
              "      <td>Hotel</td>\n",
              "      <td>HOTEL MAX</td>\n",
              "      <td>659000640</td>\n",
              "      <td>7</td>\n",
              "      <td>DOWNTOWN</td>\n",
              "      <td>1926</td>\n",
              "      <td>1.0</td>\n",
              "      <td>10.0</td>\n",
              "      <td>61320</td>\n",
              "      <td>0</td>\n",
              "      <td>61320</td>\n",
              "      <td>Hotel</td>\n",
              "      <td>Hotel</td>\n",
              "      <td>61320.0</td>\n",
              "      <td>NaN</td>\n",
              "      <td>NaN</td>\n",
              "      <td>NaN</td>\n",
              "      <td>NaN</td>\n",
              "      <td>NaN</td>\n",
              "      <td>1.0</td>\n",
              "      <td>460.4</td>\n",
              "      <td>462.5</td>\n",
              "      <td>636.3</td>\n",
              "      <td>643.2</td>\n",
              "      <td>28229320.0</td>\n",
              "      <td>28363444.0</td>\n",
              "      <td>23458518.0</td>\n",
              "      <td>811521.0</td>\n",
              "      <td>2769023.0</td>\n",
              "      <td>20019.0</td>\n",
              "      <td>2001894.0</td>\n",
              "      <td>1936.34</td>\n",
              "      <td>31.38</td>\n",
              "      <td>No</td>\n",
              "      <td>Compliant</td>\n",
              "      <td>High Outlier</td>\n",
              "      <td>47.61421585</td>\n",
              "      <td>-122.33660889</td>\n",
              "      <td>620 STEWART ST</td>\n",
              "      <td>SEATTLE</td>\n",
              "      <td>WA</td>\n",
              "      <td>98101</td>\n",
              "    </tr>\n",
              "    <tr>\n",
              "      <th>4</th>\n",
              "      <td>8</td>\n",
              "      <td>2015</td>\n",
              "      <td>NonResidential</td>\n",
              "      <td>Hotel</td>\n",
              "      <td>WARWICK SEATTLE HOTEL</td>\n",
              "      <td>659000970</td>\n",
              "      <td>7</td>\n",
              "      <td>DOWNTOWN</td>\n",
              "      <td>1980</td>\n",
              "      <td>1.0</td>\n",
              "      <td>18.0</td>\n",
              "      <td>119890</td>\n",
              "      <td>12460</td>\n",
              "      <td>107430</td>\n",
              "      <td>Hotel, Parking, Swimming Pool</td>\n",
              "      <td>Hotel</td>\n",
              "      <td>123445.0</td>\n",
              "      <td>Parking</td>\n",
              "      <td>68009.0</td>\n",
              "      <td>Swimming Pool</td>\n",
              "      <td>0.0</td>\n",
              "      <td>NaN</td>\n",
              "      <td>67.0</td>\n",
              "      <td>120.1</td>\n",
              "      <td>122.1</td>\n",
              "      <td>228.8</td>\n",
              "      <td>227.1</td>\n",
              "      <td>14829099.0</td>\n",
              "      <td>15078243.0</td>\n",
              "      <td>0.0</td>\n",
              "      <td>1777841.0</td>\n",
              "      <td>6066245.0</td>\n",
              "      <td>87631.0</td>\n",
              "      <td>8763105.0</td>\n",
              "      <td>507.70</td>\n",
              "      <td>4.02</td>\n",
              "      <td>No</td>\n",
              "      <td>Compliant</td>\n",
              "      <td>NaN</td>\n",
              "      <td>47.6137544</td>\n",
              "      <td>-122.3409238</td>\n",
              "      <td>401 LENORA ST</td>\n",
              "      <td>SEATTLE</td>\n",
              "      <td>WA</td>\n",
              "      <td>98121</td>\n",
              "    </tr>\n",
              "  </tbody>\n",
              "</table>\n",
              "</div>"
            ],
            "text/plain": [
              "   OSEBuildingID  DataYear    BuildingType  ...     City State ZipCode\n",
              "0              1      2015  NonResidential  ...  SEATTLE    WA   98101\n",
              "1              2      2015  NonResidential  ...  SEATTLE    WA   98101\n",
              "2              3      2015  NonResidential  ...  SEATTLE    WA   98101\n",
              "3              5      2015  NonResidential  ...  SEATTLE    WA   98101\n",
              "4              8      2015  NonResidential  ...  SEATTLE    WA   98121\n",
              "\n",
              "[5 rows x 45 columns]"
            ]
          },
          "metadata": {
            "tags": []
          },
          "execution_count": 58
        }
      ]
    },
    {
      "cell_type": "markdown",
      "metadata": {
        "id": "a7bidvVHSEl0",
        "colab_type": "text"
      },
      "source": [
        "##Nettoyage"
      ]
    },
    {
      "cell_type": "code",
      "metadata": {
        "id": "Gn7dG2JuIIL9",
        "colab_type": "code",
        "colab": {
          "base_uri": "https://localhost:8080/",
          "height": 1000
        },
        "outputId": "dd8b2dc4-8c84-4b38-badd-1cb153966d9b"
      },
      "source": [
        "str_colon=['BuildingType','PrimaryPropertyType','PropertyName','Neighborhood','ListOfAllPropertyUseTypes','LargestPropertyUseType','SecondLargestPropertyUseType','ThirdLargestPropertyUseType','ComplianceStatus','Outlier']\n",
        "for col in str_colon:\n",
        "  print(col)\n",
        "  print(data[col].unique())\n",
        "  print('-'*40)"
      ],
      "execution_count": null,
      "outputs": [
        {
          "output_type": "stream",
          "text": [
            "BuildingType\n",
            "['NonResidential' 'Nonresidential COS' 'Multifamily MR (5-9)'\n",
            " 'SPS-District K-12' 'Multifamily LR (1-4)' 'Campus'\n",
            " 'Multifamily HR (10+)' 'Nonresidential WA']\n",
            "----------------------------------------\n",
            "PrimaryPropertyType\n",
            "['Hotel' 'Other' 'Mid-Rise Multifamily' 'Mixed Use Property' 'K-12 School'\n",
            " 'College/University' 'Small- and Mid-Sized Office'\n",
            " 'Self-Storage Facility\\n' 'Distribution Center' 'Large Office'\n",
            " 'Retail Store' 'Low-Rise Multifamily' 'Senior Care Community'\n",
            " 'Medical Office' 'Hospital' 'Residence Hall/Dormitory'\n",
            " 'Non-Refrigerated Warehouse' 'Distribution Center\\n' 'SPS-District K-12'\n",
            " 'Worship Facility' 'Supermarket/Grocery Store' 'Laboratory'\n",
            " 'Self-Storage Facility' 'Refrigerated Warehouse' 'High-Rise Multifamily'\n",
            " 'Restaurant\\n' 'Restaurant' 'University' 'Warehouse' 'Residence Hall'\n",
            " 'Supermarket / Grocery Store' 'Office']\n",
            "----------------------------------------\n",
            "PropertyName\n",
            "['MAYFLOWER PARK HOTEL' 'PARAMOUNT HOTEL' 'WESTIN HOTEL' ...\n",
            " 'Queen Anne Pool' 'South Park Community Center'\n",
            " 'Van Asselt Community Center']\n",
            "----------------------------------------\n",
            "Neighborhood\n",
            "['DOWNTOWN' 'SOUTHEAST' 'NORTHEAST' 'EAST' 'CENTRAL' 'NORTH'\n",
            " 'MAGNOLIA / QUEEN ANNE' 'LAKE UNION' 'GREATER DUWAMISH' 'BALLARD'\n",
            " 'NORTHWEST' 'SOUTHWEST' 'DELRIDGE' 'Central' 'Ballard' 'North' 'Delridge'\n",
            " 'Northwest' 'DELRIDGE NEIGHBORHOODS']\n",
            "----------------------------------------\n",
            "ListOfAllPropertyUseTypes\n",
            "['Hotel' 'Hotel, Parking, Restaurant' 'Hotel, Parking, Swimming Pool'\n",
            " 'Police Station' 'Other - Entertainment/Public Assembly'\n",
            " 'Multifamily Housing' nan 'Hotel, Parking'\n",
            " 'Data Center, Library, Parking'\n",
            " 'Fitness Center/Health Club/Gym, Office, Swimming Pool'\n",
            " 'Office, Other, Other - Lodging/Residential, Restaurant, Social/Meeting Hall'\n",
            " 'Courthouse' 'Other' 'K-12 School' 'College/University'\n",
            " 'Automobile Dealership' 'Hotel, Parking, Retail Store, Swimming Pool'\n",
            " 'K-12 School, Multifamily Housing, Office, Other - Entertainment/Public Assembly'\n",
            " 'Self-Storage Facility' 'Non-Refrigerated Warehouse, Office'\n",
            " 'Office, Other - Education'\n",
            " 'Office, Self-Storage Facility, Vocational School'\n",
            " 'Data Center, Office, Retail Store'\n",
            " 'Non-Refrigerated Warehouse, Other, Retail Store' 'Office, Retail Store'\n",
            " 'Office, Other - Entertainment/Public Assembly, Restaurant'\n",
            " 'Multifamily Housing, Retail Store'\n",
            " 'Hotel, Parking, Restaurant, Retail Store'\n",
            " 'Hotel, Other - Entertainment/Public Assembly, Retail Store'\n",
            " 'Hotel, Restaurant' 'Office' 'Parking, Senior Care Community'\n",
            " 'Senior Care Community' 'Medical Office'\n",
            " 'Data Center, Medical Office, Non-Refrigerated Warehouse, Office, Other, Parking'\n",
            " 'Retail Store' 'Office, Other, Parking, Retail Store'\n",
            " 'Office, Other, Parking'\n",
            " 'Data Center, Distribution Center, Office, Parking, Retail Store'\n",
            " 'Hotel, Swimming Pool' 'Office, Parking' 'Other, Parking'\n",
            " 'Hospital (General Medical & Surgical), Parking' 'Office, Other' 'Museum'\n",
            " 'Data Center, Office' 'Repair Services (Vehicle, Shoe, Locksmith, etc)'\n",
            " 'Food Service, Office, Other - Lodging/Residential'\n",
            " 'Residence Hall/Dormitory' 'K-12 School, Parking' 'Courthouse, Other'\n",
            " 'Non-Refrigerated Warehouse, Office, Other - Services'\n",
            " 'Restaurant, Retail Store' 'Other/Specialty Hospital'\n",
            " 'Hospital (General Medical & Surgical)'\n",
            " 'Financial Office, Medical Office, Parking' 'Non-Refrigerated Warehouse'\n",
            " 'Non-Refrigerated Warehouse, Office, Other - Services, Residence Hall/Dormitory'\n",
            " 'Data Center, Distribution Center, Office, Other, Parking'\n",
            " 'Office, Restaurant, Self-Storage Facility'\n",
            " 'Other - Entertainment/Public Assembly, Parking'\n",
            " 'Data Center, Distribution Center, Office, Other'\n",
            " 'Non-Refrigerated Warehouse, Office, Other, Other - Services'\n",
            " 'Food Service, Hotel, Parking' 'Laboratory, Office, Parking'\n",
            " 'Fast Food Restaurant, Medical Office, Movie Theater, Parking, Retail Store'\n",
            " 'Financial Office, Multifamily Housing, Parking, Retail Store, Supermarket/Grocery Store'\n",
            " 'Multifamily Housing, Office, Other - Lodging/Residential, Retail Store'\n",
            " 'Hotel, Other, Parking, Restaurant, Retail Store'\n",
            " 'Non-Refrigerated Warehouse, Parking'\n",
            " 'K-12 School, Medical Office, Office, Restaurant, Retail Store, Senior Care Community'\n",
            " 'Office, Restaurant' 'Worship Facility'\n",
            " 'Office, Other, Other - Entertainment/Public Assembly'\n",
            " 'Office, Residence Hall/Dormitory, Retail Store'\n",
            " 'Medical Office, Multifamily Housing, Office, Retail Store'\n",
            " 'Medical Office, Office' 'Other, Restaurant, Retail Store'\n",
            " 'Non-Refrigerated Warehouse, Other - Services'\n",
            " 'Financial Office, Laboratory, Office, Parking'\n",
            " 'Office, Other, Parking, Restaurant' 'Office, Parking, Restaurant'\n",
            " 'Office, Other - Recreation, Parking, Retail Store'\n",
            " 'Fitness Center/Health Club/Gym, Office, Other, Parking, Restaurant'\n",
            " 'Office, Retail Store, Social/Meeting Hall'\n",
            " 'Convenience Store without Gas Station, Food Service, Office'\n",
            " 'Office, Parking, Pre-school/Daycare'\n",
            " 'Convenience Store without Gas Station, Office, Parking'\n",
            " 'Data Center, Office, Parking'\n",
            " 'Financial Office, Food Sales, Office, Other, Parking'\n",
            " 'Convenience Store without Gas Station, Data Center, Financial Office, Fitness Center/Health Club/Gym, Office, Other, Parking, Personal Services (Health/Beauty, Dry Cleaning, etc), Restaurant'\n",
            " 'Non-Refrigerated Warehouse, Office, Retail Store'\n",
            " 'Data Center, Office, Other' 'Fitness Center/Health Club/Gym, Office'\n",
            " 'Laboratory, Office, Other, Parking' 'Supermarket/Grocery Store'\n",
            " 'Office, Other, Restaurant'\n",
            " 'Office, Other - Restaurant/Bar, Retail Store, Single Family Home'\n",
            " 'Non-Refrigerated Warehouse, Other'\n",
            " 'Office, Performing Arts, Retail Store'\n",
            " 'Office, Other - Restaurant/Bar, Parking'\n",
            " 'Office, Other - Education, Parking'\n",
            " 'Financial Office, Office, Other, Parking, Restaurant'\n",
            " 'Hotel, Office, Retail Store'\n",
            " 'Distribution Center, Non-Refrigerated Warehouse, Office'\n",
            " 'College/University, Office, Restaurant'\n",
            " 'Financial Office, Office, Other, Parking, Restaurant, Retail Store'\n",
            " 'Office, Other, Retail Store' 'Office, Parking, Retail Store'\n",
            " 'Office, Restaurant, Retail Store'\n",
            " 'Bank Branch, Office, Other, Parking, Restaurant'\n",
            " 'Medical Office, Office, Supermarket/Grocery Store'\n",
            " 'Food Sales, Multifamily Housing, Office, Other - Education, Other - Restaurant/Bar, Pre-school/Daycare, Restaurant, Retail Store, Supermarket/Grocery Store'\n",
            " 'Office, Other - Restaurant/Bar, Parking, Retail Store'\n",
            " 'Movie Theater, Other - Restaurant/Bar, Parking' 'Laboratory, Office'\n",
            " 'Data Center, Office, Parking, Restaurant, Retail Store'\n",
            " 'Other, Retail Store' 'Convention Center, Parking'\n",
            " 'Urgent Care/Clinic/Other Outpatient' 'Medical Office, Parking'\n",
            " 'Data Center, Financial Office, Office, Other, Parking, Restaurant'\n",
            " 'Data Center, Office, Other, Parking, Restaurant'\n",
            " 'Distribution Center, Office' 'Distribution Center'\n",
            " 'Adult Education, Bank Branch, Office, Parking'\n",
            " 'Data Center, Office, Other, Restaurant'\n",
            " 'Parking, Retail Store, Supermarket/Grocery Store'\n",
            " 'Data Center, Laboratory' 'Laboratory'\n",
            " 'Financial Office, Food Service, Office, Other, Parking'\n",
            " 'Medical Office, Office, Parking'\n",
            " 'Fitness Center/Health Club/Gym, Office, Parking, Restaurant'\n",
            " 'Bank Branch, Office, Parking'\n",
            " 'Non-Refrigerated Warehouse, Office, Other, Other - Entertainment/Public Assembly, Parking'\n",
            " 'Office, Other - Services' 'Parking, Strip Mall'\n",
            " 'Wholesale Club/Supercenter' 'Retail Store, Supermarket/Grocery Store'\n",
            " 'Parking, Supermarket/Grocery Store'\n",
            " 'Data Center, Library, Non-Refrigerated Warehouse, Office, Other - Entertainment/Public Assembly, Other - Recreation, Other - Services, Restaurant, Social/Meeting Hall'\n",
            " 'Multifamily Housing, Non-Refrigerated Warehouse, Office, Parking, Retail Store'\n",
            " 'Parking, Retail Store' 'Parking, Self-Storage Facility'\n",
            " 'Distribution Center, Parking' 'Office, Parking, Refrigerated Warehouse'\n",
            " 'Office, Other - Services, Parking' 'Strip Mall'\n",
            " 'Medical Office, Retail Store' 'Refrigerated Warehouse'\n",
            " 'Multifamily Housing, Parking, Restaurant, Retail Store'\n",
            " 'Food Service, Office, Parking, Restaurant'\n",
            " 'Data Center, Office, Other, Other - Entertainment/Public Assembly'\n",
            " 'Non-Refrigerated Warehouse, Retail Store'\n",
            " 'Distribution Center, Office, Other'\n",
            " 'Multifamily Housing, Non-Refrigerated Warehouse, Office, Parking'\n",
            " 'Distribution Center, Office, Parking'\n",
            " 'Distribution Center, Non-Refrigerated Warehouse, Office, Retail Store'\n",
            " 'Distribution Center, Office, Other, Other - Recreation, Parking'\n",
            " 'Medical Office, Other, Parking'\n",
            " 'Financial Office, Hotel, Multifamily Housing, Other, Parking, Restaurant, Supermarket/Grocery Store'\n",
            " 'Data Center, Office, Restaurant'\n",
            " 'Data Center, Financial Office, Office, Parking, Restaurant'\n",
            " 'Other - Recreation, Parking, Swimming Pool'\n",
            " 'Medical Office, Multifamily Housing, Office, Other, Parking'\n",
            " 'Library, Multifamily Housing, Office, Other - Entertainment/Public Assembly, Parking, Restaurant'\n",
            " 'Lifestyle Center' 'Multifamily Housing, Parking, Retail Store'\n",
            " 'Data Center, Office, Parking, Restaurant'\n",
            " 'Non-Refrigerated Warehouse, Office, Other, Other - Recreation, Other - Services, Restaurant'\n",
            " 'Adult Education, Fitness Center/Health Club/Gym, Office, Other - Restaurant/Bar, Parking, Retail Store'\n",
            " 'Non-Refrigerated Warehouse, Office, Other'\n",
            " 'Distribution Center, Office, Retail Store'\n",
            " 'Other - Public Services, Parking'\n",
            " 'Multifamily Housing, Non-Refrigerated Warehouse, Office, Parking, Retail Store, Worship Facility'\n",
            " 'Fitness Center/Health Club/Gym, Office, Parking'\n",
            " 'Data Center, Office, Other, Parking'\n",
            " 'Bar/Nightclub, Office, Personal Services (Health/Beauty, Dry Cleaning, etc)'\n",
            " 'Medical Office, Parking, Retail Store'\n",
            " 'Office, Other - Entertainment/Public Assembly, Other - Mall, Restaurant'\n",
            " 'Office, Performing Arts, Restaurant, Retail Store, Self-Storage Facility'\n",
            " 'Office, Other, Other - Restaurant/Bar, Parking'\n",
            " 'Office, Other - Technology/Science, Parking'\n",
            " 'Financial Office, Food Service, Office, Other'\n",
            " 'Data Center, Medical Office, Office, Parking, Restaurant'\n",
            " 'College/University, Parking'\n",
            " 'Data Center, Non-Refrigerated Warehouse, Office, Retail Store'\n",
            " 'Non-Refrigerated Warehouse, Other, Parking, Retail Store'\n",
            " 'Other, Parking, Restaurant, Retail Store'\n",
            " 'Distribution Center, Non-Refrigerated Warehouse, Refrigerated Warehouse'\n",
            " 'Non-Refrigerated Warehouse, Office, Other - Services, Retail Store'\n",
            " 'Multifamily Housing, Office, Parking, Retail Store'\n",
            " 'Non-Refrigerated Warehouse, Other, Restaurant, Retail Store'\n",
            " 'Non-Refrigerated Warehouse, Office, Other - Recreation'\n",
            " 'Medical Office, Office, Other'\n",
            " 'Other - Entertainment/Public Assembly, Restaurant'\n",
            " 'Data Center, Non-Refrigerated Warehouse, Other, Refrigerated Warehouse, Repair Services (Vehicle, Shoe, Locksmith, etc), Restaurant'\n",
            " 'Automobile Dealership, Office'\n",
            " 'Manufacturing/Industrial Plant, Office, Parking'\n",
            " 'Multifamily Housing, Parking' 'Multifamily Housing, Office, Parking'\n",
            " 'Multifamily Housing, Office, Parking, Swimming Pool'\n",
            " 'Multifamily Housing, Restaurant, Retail Store'\n",
            " 'Bank Branch, Multifamily Housing, Other - Restaurant/Bar, Supermarket/Grocery Store'\n",
            " 'Manufacturing/Industrial Plant' 'Multifamily Housing, Office'\n",
            " 'Multifamily Housing, Office, Retail Store'\n",
            " 'Multifamily Housing, Office, Other, Parking'\n",
            " 'Office, Other, Retail Store, Swimming Pool'\n",
            " 'Medical Office, Office, Other, Other - Services, Parking, Retail Store'\n",
            " 'Parking, Restaurant'\n",
            " 'Medical Office, Multifamily Housing, Office, Parking, Restaurant'\n",
            " 'Multifamily Housing, Office, Other - Services'\n",
            " 'Multifamily Housing, Parking, Swimming Pool' 'Social/Meeting Hall'\n",
            " 'Restaurant' 'Office, Other - Lodging/Residential' 'Bank Branch, Office'\n",
            " 'Multifamily Housing, Restaurant'\n",
            " 'Food Service, Multifamily Housing, Office' 'Other - Education'\n",
            " 'K-12 School, Worship Facility' 'Multifamily Housing, Other'\n",
            " 'Food Service, Multifamily Housing' 'Bank Branch, Other, Parking'\n",
            " 'Financial Office'\n",
            " 'Fast Food Restaurant, Multifamily Housing, Retail Store'\n",
            " 'Multifamily Housing, Parking, Restaurant, Swimming Pool' 'Fire Station'\n",
            " 'Other - Entertainment/Public Assembly, Parking, Social/Meeting Hall, Swimming Pool'\n",
            " 'Multifamily Housing, Swimming Pool'\n",
            " 'Non-Refrigerated Warehouse, Office, Other, Retail Store'\n",
            " 'Bank Branch, Financial Office'\n",
            " 'Multifamily Housing, Office, Restaurant, Retail Store, Social/Meeting Hall, Supermarket/Grocery Store'\n",
            " 'Bank Branch, Senior Care Community'\n",
            " 'Multifamily Housing, Office, Other, Other - Lodging/Residential, Worship Facility'\n",
            " 'Multifamily Housing, Parking, Personal Services (Health/Beauty, Dry Cleaning, etc), Restaurant'\n",
            " 'Multifamily Housing, Office, Other' 'Parking, Worship Facility'\n",
            " 'Multifamily Housing, Non-Refrigerated Warehouse, Parking, Residence Hall/Dormitory'\n",
            " 'Medical Office, Multifamily Housing, Office, Restaurant, Retail Store'\n",
            " 'Multifamily Housing, Other - Entertainment/Public Assembly'\n",
            " 'Medical Office, Multifamily Housing, Other - Restaurant/Bar'\n",
            " 'Other, Worship Facility' 'Parking, Residence Hall/Dormitory'\n",
            " 'Medical Office, Multifamily Housing, Parking'\n",
            " 'Office, Residence Hall/Dormitory' 'Office, Social/Meeting Hall'\n",
            " 'Performing Arts'\n",
            " 'Non-Refrigerated Warehouse, Office, Other - Recreation, Restaurant'\n",
            " 'Multifamily Housing, Office, Retail Store, Supermarket/Grocery Store'\n",
            " 'Other - Recreation, Parking, Restaurant'\n",
            " 'Fitness Center/Health Club/Gym, Swimming Pool'\n",
            " 'Multifamily Housing, Parking, Senior Care Community'\n",
            " 'Food Service, Other - Services, Retail Store, Supermarket/Grocery Store'\n",
            " 'Multifamily Housing, Parking, Restaurant' 'Other - Mall, Restaurant'\n",
            " 'Distribution Center, Office, Refrigerated Warehouse'\n",
            " 'K-12 School, Office, Retail Store' 'Other - Recreation'\n",
            " 'Other - Services'\n",
            " 'Fitness Center/Health Club/Gym, Office, Other - Recreation, Pre-school/Daycare'\n",
            " 'Non-Refrigerated Warehouse, Office, Self-Storage Facility'\n",
            " 'Automobile Dealership, Parking'\n",
            " 'Multifamily Housing, Parking, Retail Store, Swimming Pool'\n",
            " 'Multifamily Housing, Other - Restaurant/Bar, Parking, Retail Store'\n",
            " 'Non-Refrigerated Warehouse, Other - Recreation'\n",
            " 'Multifamily Housing, Other, Retail Store'\n",
            " 'Multifamily Housing, Office, Other - Mall, Parking, Restaurant'\n",
            " 'Hotel, Retail Store' 'Bank Branch, Bar/Nightclub, Office, Parking'\n",
            " 'Multifamily Housing, Office, Other, Parking, Retail Store'\n",
            " 'Residential Care Facility'\n",
            " 'Lifestyle Center, Multifamily Housing, Office, Parking' 'Bank Branch'\n",
            " 'Multifamily Housing, Office, Parking, Restaurant'\n",
            " 'Other - Education, Parking'\n",
            " 'Food Service, Office, Other - Entertainment/Public Assembly'\n",
            " 'Office, Other, Other - Services, Residence Hall/Dormitory, Restaurant'\n",
            " 'Food Service, Office, Parking'\n",
            " 'Bank Branch, Office, Parking, Restaurant'\n",
            " 'Other - Entertainment/Public Assembly, Restaurant, Retail Store'\n",
            " 'Other, Personal Services (Health/Beauty, Dry Cleaning, etc), Restaurant, Retail Store'\n",
            " 'Food Sales, Office, Restaurant, Retail Store, Self-Storage Facility, Social/Meeting Hall'\n",
            " 'Bar/Nightclub, Food Sales, Multifamily Housing, Restaurant, Retail Store, Self-Storage Facility'\n",
            " 'Food Sales, Office, Restaurant'\n",
            " 'Medical Office, Multifamily Housing, Other - Restaurant/Bar, Retail Store'\n",
            " 'Food Sales, Manufacturing/Industrial Plant, Office, Other - Entertainment/Public Assembly, Other - Restaurant/Bar, Restaurant, Retail Store, Self-Storage Facility'\n",
            " 'Multifamily Housing, Office, Restaurant, Retail Store'\n",
            " 'Multifamily Housing, Office, Restaurant' 'Food Service'\n",
            " 'Hotel, Multifamily Housing, Parking, Retail Store'\n",
            " 'Medical Office, Office, Retail Store'\n",
            " 'Other - Recreation, Self-Storage Facility'\n",
            " 'Office, Repair Services (Vehicle, Shoe, Locksmith, etc), Retail Store'\n",
            " 'Multifamily Housing, Retail Store, Self-Storage Facility, Supermarket/Grocery Store'\n",
            " 'Adult Education, Parking' 'Medical Office, Non-Refrigerated Warehouse'\n",
            " 'Office, Worship Facility' 'Office, Other - Recreation'\n",
            " 'Medical Office, Non-Refrigerated Warehouse, Office, Retail Store'\n",
            " 'Food Sales, Multifamily Housing, Parking'\n",
            " 'Bank Branch, Medical Office, Parking, Retail Store'\n",
            " 'Multifamily Housing, Other, Parking'\n",
            " 'Financial Office, Multifamily Housing, Parking, Supermarket/Grocery Store'\n",
            " 'Multifamily Housing, Parking, Supermarket/Grocery Store'\n",
            " 'Library, Other - Services'\n",
            " 'Distribution Center, Non-Refrigerated Warehouse'\n",
            " 'Multifamily Housing, Non-Refrigerated Warehouse, Parking'\n",
            " 'Multifamily Housing, Office, Other, Strip Mall'\n",
            " 'Fitness Center/Health Club/Gym, Other - Recreation, Swimming Pool'\n",
            " 'Food Sales, Food Service, Medical Office, Multifamily Housing, Other'\n",
            " 'Office, Senior Care Community' 'Office, Parking, Self-Storage Facility'\n",
            " 'Office, Repair Services (Vehicle, Shoe, Locksmith, etc)'\n",
            " 'Medical Office, Office, Worship Facility'\n",
            " 'Multifamily Housing, Office, Swimming Pool'\n",
            " 'Medical Office, Other/Specialty Hospital, Outpatient Rehabilitation/Physical Therapy, Parking'\n",
            " 'Adult Education' 'Multifamily Housing, Other/Specialty Hospital'\n",
            " 'Museum, Parking'\n",
            " 'Bank Branch, Multifamily Housing, Office, Other, Retail Store'\n",
            " 'Multifamily Housing, Office, Parking, Restaurant, Retail Store, Swimming Pool, Urgent Care/Clinic/Other Outpatient'\n",
            " 'Office, Other - Utility, Parking'\n",
            " 'Office, Restaurant, Supermarket/Grocery Store'\n",
            " 'Multifamily Housing, Non-Refrigerated Warehouse, Office, Retail Store'\n",
            " 'Multifamily Housing, Other, Restaurant, Supermarket/Grocery Store'\n",
            " 'Restaurant, Senior Care Community'\n",
            " 'Other - Recreation, Worship Facility'\n",
            " 'Non-Refrigerated Warehouse, Office, Other, Parking, Retail Store'\n",
            " 'Medical Office, Non-Refrigerated Warehouse, Office, Other'\n",
            " 'Multifamily Housing, Parking, Social/Meeting Hall'\n",
            " 'Food Sales, Multifamily Housing, Office, Other'\n",
            " 'Other - Lodging/Residential, Parking'\n",
            " 'Multifamily Housing, Office, Parking, Personal Services (Health/Beauty, Dry Cleaning, etc), Restaurant, Retail Store'\n",
            " 'K-12 School, Multifamily Housing, Office'\n",
            " 'Manufacturing/Industrial Plant, Parking'\n",
            " 'Office, Refrigerated Warehouse' 'Office, Other - Public Services'\n",
            " 'Non-Refrigerated Warehouse, Parking, Repair Services (Vehicle, Shoe, Locksmith, etc), Retail Store'\n",
            " 'Financial Office, Multifamily Housing, Retail Store'\n",
            " 'Food Service, Non-Refrigerated Warehouse, Retail Store'\n",
            " 'Fitness Center/Health Club/Gym, Office, Other - Recreation'\n",
            " 'Distribution Center, Non-Refrigerated Warehouse, Office, Other - Education, Parking'\n",
            " 'Movie Theater'\n",
            " 'Fast Food Restaurant, Other, Other - Entertainment/Public Assembly'\n",
            " 'College/University, Medical Office'\n",
            " 'Fitness Center/Health Club/Gym, Office, Other - Recreation, Other - Technology/Science, Pre-school/Daycare, Swimming Pool'\n",
            " 'Food Service, Other, Other - Education, Other - Entertainment/Public Assembly, Other - Recreation, Social/Meeting Hall'\n",
            " 'Medical Office, Multifamily Housing, Office, Other, Parking, Restaurant, Self-Storage Facility'\n",
            " 'Other, Other - Entertainment/Public Assembly, Self-Storage Facility'\n",
            " 'Other, Refrigerated Warehouse'\n",
            " 'Non-Refrigerated Warehouse, Office, Social/Meeting Hall'\n",
            " 'Non-Refrigerated Warehouse, Other, Refrigerated Warehouse'\n",
            " 'Other - Mall, Parking' 'Non-Refrigerated Warehouse, Worship Facility'\n",
            " 'Outpatient Rehabilitation/Physical Therapy, Parking'\n",
            " 'Personal Services (Health/Beauty, Dry Cleaning, etc)'\n",
            " 'Non-Refrigerated Warehouse, Office, Repair Services (Vehicle, Shoe, Locksmith, etc)'\n",
            " 'Hotel, Multifamily Housing, Parking' 'College/University, Restaurant'\n",
            " 'Office, Other, Refrigerated Warehouse'\n",
            " 'Multifamily Housing, Other, Parking, Retail Store'\n",
            " 'Food Service, Multifamily Housing, Other, Other - Entertainment/Public Assembly, Restaurant, Retail Store'\n",
            " 'Other, Parking, Restaurant'\n",
            " 'Multifamily Housing, Other - Recreation, Parking, Restaurant'\n",
            " 'Financial Office, Multifamily Housing, Parking, Residence Hall/Dormitory'\n",
            " 'Office, Restaurant, Retail Store, Self-Storage Facility'\n",
            " 'Bar/Nightclub, Multifamily Housing'\n",
            " 'Multifamily Housing, Other - Education, Other - Entertainment/Public Assembly, Other - Restaurant/Bar'\n",
            " 'Office, Other, Worship Facility'\n",
            " 'Multifamily Housing, Non-Refrigerated Warehouse, Retail Store'\n",
            " 'Food Sales, Non-Refrigerated Warehouse, Office'\n",
            " 'Multifamily Housing, Office, Other - Entertainment/Public Assembly, Parking'\n",
            " 'Medical Office, Office, Other, Restaurant, Retail Store'\n",
            " 'Parking, Senior Care Community, Worship Facility'\n",
            " 'Office, Parking, Residence Hall/Dormitory, Restaurant, Social/Meeting Hall'\n",
            " 'Office, Other, Other - Entertainment/Public Assembly, Other - Recreation, Other - Utility, Restaurant, Retail Store'\n",
            " 'Bank Branch, Parking' 'Office, Other - Restaurant/Bar'\n",
            " 'Manufacturing/Industrial Plant, Office, Retail Store'\n",
            " 'Food Service, Library, Office, Parking'\n",
            " 'K-12 School, Office, Supermarket/Grocery Store, Worship Facility'\n",
            " 'Fast Food Restaurant, Fitness Center/Health Club/Gym, Medical Office, Multifamily Housing, Other, Parking, Personal Services (Health/Beauty, Dry Cleaning, etc), Restaurant'\n",
            " 'Bar/Nightclub, Food Sales, Museum, Retail Store, Supermarket/Grocery Store'\n",
            " 'Office, Other - Entertainment/Public Assembly'\n",
            " 'Other - Lodging/Residential'\n",
            " 'Multifamily Housing, Non-Refrigerated Warehouse'\n",
            " 'Food Sales, Multifamily Housing, Other - Restaurant/Bar, Retail Store, Self-Storage Facility, Social/Meeting Hall'\n",
            " 'Medical Office, Multifamily Housing, Supermarket/Grocery Store'\n",
            " 'Multifamily Housing, Retail Store, Social/Meeting Hall'\n",
            " 'Multifamily Housing, Other, Other - Lodging/Residential'\n",
            " 'Fitness Center/Health Club/Gym, Office, Other - Recreation, Other - Technology/Science, Parking, Pre-school/Daycare'\n",
            " 'Other - Education, Performing Arts, Social/Meeting Hall'\n",
            " 'Office, Supermarket/Grocery Store'\n",
            " 'Fitness Center/Health Club/Gym, Medical Office, Office, Parking, Restaurant'\n",
            " 'Non-Refrigerated Warehouse, Office, Parking'\n",
            " 'Multifamily Housing, Museum'\n",
            " 'Bank Branch, Multifamily Housing, Parking, Restaurant, Strip Mall'\n",
            " 'Office, Parking, Senior Care Community'\n",
            " 'Hotel, Multifamily Housing, Retail Store'\n",
            " 'Multifamily Housing, Office, Other, Other - Recreation, Parking, Restaurant'\n",
            " 'Financial Office, Food Service, Multifamily Housing, Other, Parking'\n",
            " 'Non-Refrigerated Warehouse, Office, Restaurant, Retail Store'\n",
            " 'Office, Other - Entertainment/Public Assembly, Restaurant, Urgent Care/Clinic/Other Outpatient'\n",
            " 'Non-Refrigerated Warehouse, Office, Refrigerated Warehouse'\n",
            " 'Other - Education, Worship Facility' 'Library, Parking'\n",
            " 'Multifamily Housing, Other, Parking, Urgent Care/Clinic/Other Outpatient'\n",
            " 'Other - Services, Retail Store'\n",
            " 'K-12 School, Office, Social/Meeting Hall, Worship Facility'\n",
            " 'Fast Food Restaurant, Multifamily Housing, Parking'\n",
            " 'Food Service, Multifamily Housing, Office, Other, Retail Store'\n",
            " 'Hospital (General Medical & Surgical), Multifamily Housing, Parking'\n",
            " 'Laboratory, Other'\n",
            " 'Fast Food Restaurant, Multifamily Housing, Office, Other, Restaurant, Retail Store'\n",
            " 'Multifamily Housing, Other, Restaurant'\n",
            " 'Multifamily Housing, Senior Care Community'\n",
            " 'Distribution Center, Non-Refrigerated Warehouse, Supermarket/Grocery Store'\n",
            " 'Multifamily Housing, Non-Refrigerated Warehouse, Office, Restaurant'\n",
            " 'Fitness Center/Health Club/Gym, Multifamily Housing, Parking, Restaurant'\n",
            " 'Enclosed Mall, Manufacturing/Industrial Plant, Office, Other - Restaurant/Bar'\n",
            " 'Multifamily Housing, Parking, Retail Store, Senior Care Community'\n",
            " 'Multifamily Housing, Office, Parking, Residence Hall/Dormitory, Retail Store'\n",
            " 'Other - Utility' 'Hospital (General Medical & Surgical), Other'\n",
            " 'Food Service, Multifamily Housing, Parking'\n",
            " 'Hotel, Parking, Retail Store'\n",
            " 'Data Center, Multifamily Housing, Office, Other, Parking'\n",
            " 'Data Center, Parking'\n",
            " 'Food Service, Medical Office, Multifamily Housing, Office'\n",
            " 'Convenience Store without Gas Station, Laboratory, Parking'\n",
            " 'Lifestyle Center, Medical Office'\n",
            " 'Bar/Nightclub, Multifamily Housing, Parking'\n",
            " 'Parking, Pre-school/Daycare'\n",
            " 'Fitness Center/Health Club/Gym, Office, Other - Education, Other - Recreation, Other - Technology/Science, Pre-school/Daycare, Swimming Pool'\n",
            " 'Multifamily Housing, Other - Restaurant/Bar, Parking, Restaurant'\n",
            " 'Multifamily Housing, Parking, Retail Store, Supermarket/Grocery Store'\n",
            " 'Food Sales, Multifamily Housing, Restaurant, Retail Store'\n",
            " 'Bar/Nightclub, Multifamily Housing, Other - Restaurant/Bar, Restaurant, Retail Store'\n",
            " 'Office, Other - Public Services, Personal Services (Health/Beauty, Dry Cleaning, etc), Senior Care Community'\n",
            " 'Pre-school/Daycare'\n",
            " 'Multifamily Housing, Office, Other, Parking, Performing Arts, Restaurant'\n",
            " 'Energy/Power Station, Laboratory, Manufacturing/Industrial Plant, Non-Refrigerated Warehouse, Office'\n",
            " 'Other - Mall, Personal Services (Health/Beauty, Dry Cleaning, etc)'\n",
            " 'Laboratory, Non-Refrigerated Warehouse, Office, Other - Utility'\n",
            " 'Lifestyle Center, Office, Other, Parking, Restaurant'\n",
            " 'Financial Office, Office, Parking, Retail Store' 'Data Center'\n",
            " 'Office, Parking, Personal Services (Health/Beauty, Dry Cleaning, etc)'\n",
            " 'Data Center, Office, Parking, Performing Arts, Restaurant, Retail Store'\n",
            " 'Fitness Center/Health Club/Gym, Office, Other - Education, Other - Recreation, Other - Restaurant/Bar, Outpatient Rehabilitation/Physical Therapy, Personal Services (Health/Beauty, Dry Cleaning, etc), Restaurant, Retail Store, Self-Storage Facility, Vocat'\n",
            " 'Enclosed Mall, Office'\n",
            " 'Multifamily Housing, Other - Lodging/Residential, Parking'\n",
            " 'Personal Services (Health/Beauty, Dry Cleaning, etc), Retail Store, Supermarket/Grocery Store'\n",
            " 'Office, Other - Restaurant/Bar, Other - Technology/Science, Parking'\n",
            " 'Hotel, Parking, Restaurant, Swimming Pool' 'Laboratory, Medical Office'\n",
            " 'Manufacturing/Industrial Plant, Office, Parking, Retail Store'\n",
            " 'Multifamily Housing, Other - Restaurant/Bar'\n",
            " 'Bank Branch, Parking, Senior Care Community'\n",
            " 'Food Service, Retail Store, Supermarket/Grocery Store'\n",
            " 'Fitness Center/Health Club/Gym, Multifamily Housing, Personal Services (Health/Beauty, Dry Cleaning, etc)'\n",
            " 'Data Center, Non-Refrigerated Warehouse, Office'\n",
            " 'Fitness Center/Health Club/Gym, Multifamily Housing, Other - Restaurant/Bar, Parking, Personal Services (Health/Beauty, Dry Cleaning, etc), Restaurant'\n",
            " 'Multifamily Housing, Restaurant, Retail Store, Self-Storage Facility'\n",
            " 'Other, Supermarket/Grocery Store' 'Bank Branch, Retail Store'\n",
            " 'Multifamily Housing, Office, Parking, Pre-school/Daycare'\n",
            " 'Pre-school/Daycare, Worship Facility'\n",
            " 'Fitness Center/Health Club/Gym, Office, Other, Other - Utility, Restaurant, Retail Store'\n",
            " 'Office, Other - Entertainment/Public Assembly, Other - Public Services, Restaurant, Urgent Care/Clinic/Other Outpatient'\n",
            " 'Office, Other, Other - Restaurant/Bar, Strip Mall'\n",
            " 'Multifamily Housing, Parking, Personal Services (Health/Beauty, Dry Cleaning, etc), Retail Store, Supermarket/Grocery Store'\n",
            " 'Financial Office, Multifamily Housing, Office, Retail Store, Supermarket/Grocery Store'\n",
            " 'Residence Hall/Dormitory, Supermarket/Grocery Store'\n",
            " 'Movie Theater, Office, Vocational School'\n",
            " 'Multifamily Housing, Office, Parking, Restaurant, Retail Store'\n",
            " 'Multifamily Housing, Office, Other - Lodging/Residential, Parking, Retail Store'\n",
            " 'Multifamily Housing, Other - Restaurant/Bar, Parking, Personal Services (Health/Beauty, Dry Cleaning, etc)'\n",
            " 'College/University, Multifamily Housing, Office, Other, Parking'\n",
            " 'Multifamily Housing, Parking, Personal Services (Health/Beauty, Dry Cleaning, etc), Restaurant, Self-Storage Facility'\n",
            " 'Multifamily Housing, Other - Public Services, Parking'\n",
            " 'Data Center, Laboratory, Museum, Office, Other, Parking'\n",
            " 'Fitness Center/Health Club/Gym, Office, Other - Recreation, Pre-school/Daycare, Social/Meeting Hall'\n",
            " 'Prison/Incarceration'\n",
            " 'Fitness Center/Health Club/Gym, Food Service, Office, Other - Recreation, Pre-school/Daycare'\n",
            " 'Fitness Center/Health Club/Gym, Office, Other - Recreation, Swimming Pool'\n",
            " 'Fitness Center/Health Club/Gym, Office, Other - Recreation, Other - Technology/Science']\n",
            "----------------------------------------\n",
            "LargestPropertyUseType\n",
            "['Hotel' 'Police Station' 'Other - Entertainment/Public Assembly'\n",
            " 'Multifamily Housing' nan 'Library' 'Fitness Center/Health Club/Gym'\n",
            " 'Social/Meeting Hall' 'Courthouse' 'Other' 'K-12 School'\n",
            " 'College/University' 'Automobile Dealership' 'Office'\n",
            " 'Self-Storage Facility' 'Retail Store' 'Senior Care Community'\n",
            " 'Medical Office' 'Hospital (General Medical & Surgical)' 'Museum'\n",
            " 'Repair Services (Vehicle, Shoe, Locksmith, etc)'\n",
            " 'Other - Lodging/Residential' 'Residence Hall/Dormitory'\n",
            " 'Other/Specialty Hospital' 'Financial Office'\n",
            " 'Non-Refrigerated Warehouse' 'Distribution Center' 'Parking'\n",
            " 'Worship Facility' 'Laboratory' 'Supermarket/Grocery Store'\n",
            " 'Convention Center' 'Urgent Care/Clinic/Other Outpatient'\n",
            " 'Other - Services' 'Strip Mall' 'Wholesale Club/Supercenter'\n",
            " 'Refrigerated Warehouse' 'Other - Recreation' 'Lifestyle Center'\n",
            " 'Other - Public Services' 'Data Center' 'Other - Mall'\n",
            " 'Manufacturing/Industrial Plant' 'Restaurant' 'Other - Education'\n",
            " 'Fire Station' 'Performing Arts' 'Residential Care Facility'\n",
            " 'Bank Branch' 'Other - Restaurant/Bar' 'Food Service' 'Adult Education'\n",
            " 'Other - Utility' 'Movie Theater'\n",
            " 'Outpatient Rehabilitation/Physical Therapy'\n",
            " 'Personal Services (Health/Beauty, Dry Cleaning, etc)'\n",
            " 'Pre-school/Daycare' 'Prison/Incarceration']\n",
            "----------------------------------------\n",
            "SecondLargestPropertyUseType\n",
            "[nan 'Parking' 'Office' 'Restaurant' 'K-12 School'\n",
            " 'Non-Refrigerated Warehouse' 'Other - Education' 'Vocational School'\n",
            " 'Retail Store' 'Other - Entertainment/Public Assembly' 'Data Center'\n",
            " 'Swimming Pool' 'Other' 'Courthouse' 'Residence Hall/Dormitory'\n",
            " 'Distribution Center' 'Self-Storage Facility' 'Other - Services'\n",
            " 'Laboratory' 'Movie Theater' 'Supermarket/Grocery Store' 'Medical Office'\n",
            " 'Other - Recreation' 'Convenience Store without Gas Station'\n",
            " 'Fitness Center/Health Club/Gym' 'Performing Arts' 'College/University'\n",
            " 'Other - Restaurant/Bar' 'Adult Education' 'Multifamily Housing'\n",
            " 'Bar/Nightclub' 'Financial Office'\n",
            " 'Repair Services (Vehicle, Shoe, Locksmith, etc)'\n",
            " 'Other - Lodging/Residential' 'Bank Branch' 'Food Service'\n",
            " 'Worship Facility' 'Senior Care Community' 'Refrigerated Warehouse'\n",
            " 'Hotel' 'Food Sales' 'Other/Specialty Hospital' 'Other - Public Services'\n",
            " 'Manufacturing/Industrial Plant' 'Social/Meeting Hall' 'Museum'\n",
            " 'Hospital (General Medical & Surgical)' 'Automobile Dealership'\n",
            " 'Personal Services (Health/Beauty, Dry Cleaning, etc)' 'Enclosed Mall'\n",
            " 'Pre-school/Daycare']\n",
            "----------------------------------------\n",
            "ThirdLargestPropertyUseType\n",
            "[nan 'Restaurant' 'Swimming Pool' 'Data Center' 'Office' 'Retail Store'\n",
            " 'Other - Entertainment/Public Assembly' 'Other' 'Distribution Center'\n",
            " 'Food Service' 'Other - Services' 'Medical Office' 'Parking'\n",
            " 'Other - Lodging/Residential' 'K-12 School'\n",
            " 'Fitness Center/Health Club/Gym' 'Social/Meeting Hall'\n",
            " 'Pre-school/Daycare' 'Convenience Store without Gas Station'\n",
            " 'Financial Office' 'Non-Refrigerated Warehouse' 'Other - Restaurant/Bar'\n",
            " 'Other - Education' 'Multifamily Housing' 'Laboratory' 'Bank Branch'\n",
            " 'Hotel' 'Other - Recreation'\n",
            " 'Personal Services (Health/Beauty, Dry Cleaning, etc)'\n",
            " 'Self-Storage Facility' 'Other - Technology/Science'\n",
            " 'Refrigerated Warehouse' 'Manufacturing/Industrial Plant'\n",
            " 'Fast Food Restaurant' 'Bar/Nightclub' 'Food Sales'\n",
            " 'Supermarket/Grocery Store' 'Other/Specialty Hospital' 'Worship Facility'\n",
            " 'Strip Mall' 'Enclosed Mall' 'Residence Hall/Dormitory' 'Other - Utility'\n",
            " 'Vocational School' 'College/University' 'Other - Public Services']\n",
            "----------------------------------------\n",
            "ComplianceStatus\n",
            "['Compliant' 'Not Compliant' 'Error - Correct Default Data' 'Missing Data'\n",
            " 'Non-Compliant']\n",
            "----------------------------------------\n",
            "Outlier\n",
            "[nan 'High Outlier' 'Low Outlier' 'High outlier' 'Low outlier']\n",
            "----------------------------------------\n"
          ],
          "name": "stdout"
        }
      ]
    },
    {
      "cell_type": "markdown",
      "metadata": {
        "id": "HkCkVcZ8Mgdf",
        "colab_type": "text"
      },
      "source": [
        "### Corrections str"
      ]
    },
    {
      "cell_type": "code",
      "metadata": {
        "id": "wpF130y4JaE2",
        "colab_type": "code",
        "colab": {}
      },
      "source": [
        "data['Neighborhood'].replace('Central', 'CENTRAL', inplace=True)\n",
        "data['Neighborhood'].replace('Ballard', 'BALLARD', inplace=True)\n",
        "data['Neighborhood'].replace('North', 'NORTH', inplace=True)\n",
        "data['Neighborhood'].replace('Northwest', 'NORTHWEST', inplace=True)\n",
        "data['Neighborhood'].replace('DELRIDGE NEIGHBORHOODS', 'DELRIDGE', inplace=True)\n",
        "data['Neighborhood'].replace('Delridge', 'DELRIDGE', inplace=True)"
      ],
      "execution_count": null,
      "outputs": []
    },
    {
      "cell_type": "code",
      "metadata": {
        "id": "z52xFiSRPqg_",
        "colab_type": "code",
        "colab": {}
      },
      "source": [
        "data['PrimaryPropertyType'] = data['PrimaryPropertyType'].str.replace('\\n','')"
      ],
      "execution_count": null,
      "outputs": []
    },
    {
      "cell_type": "code",
      "metadata": {
        "id": "t2G7sypHR8kI",
        "colab_type": "code",
        "colab": {}
      },
      "source": [
        "data['City'].replace('SEATTLE', 'Seattle', inplace=True)"
      ],
      "execution_count": null,
      "outputs": []
    },
    {
      "cell_type": "markdown",
      "metadata": {
        "id": "KAEYkiMsSMPT",
        "colab_type": "text"
      },
      "source": [
        "### Suppression des indicateurs non pertinents"
      ]
    },
    {
      "cell_type": "code",
      "metadata": {
        "id": "fpumhsgpR_Yb",
        "colab_type": "code",
        "colab": {
          "base_uri": "https://localhost:8080/",
          "height": 222
        },
        "outputId": "8c439d17-6d9b-4e29-b68e-0c69250e8b46"
      },
      "source": [
        "indi_to_drop = ['City','State', 'PropertyName', 'TaxParcelIdentificationNumber',\n",
        "                'ListOfAllPropertyUseTypes', 'ComplianceStatus', 'DefaultData','Outlier', 'Address', 'ZipCode']\n",
        "data=data.drop(indi_to_drop,axis=1)         \n",
        "data.head()"
      ],
      "execution_count": null,
      "outputs": [
        {
          "output_type": "execute_result",
          "data": {
            "text/html": [
              "<div>\n",
              "<style scoped>\n",
              "    .dataframe tbody tr th:only-of-type {\n",
              "        vertical-align: middle;\n",
              "    }\n",
              "\n",
              "    .dataframe tbody tr th {\n",
              "        vertical-align: top;\n",
              "    }\n",
              "\n",
              "    .dataframe thead th {\n",
              "        text-align: right;\n",
              "    }\n",
              "</style>\n",
              "<table border=\"1\" class=\"dataframe\">\n",
              "  <thead>\n",
              "    <tr style=\"text-align: right;\">\n",
              "      <th></th>\n",
              "      <th>OSEBuildingID</th>\n",
              "      <th>DataYear</th>\n",
              "      <th>BuildingType</th>\n",
              "      <th>PrimaryPropertyType</th>\n",
              "      <th>CouncilDistrictCode</th>\n",
              "      <th>Neighborhood</th>\n",
              "      <th>YearBuilt</th>\n",
              "      <th>NumberofBuildings</th>\n",
              "      <th>NumberofFloors</th>\n",
              "      <th>PropertyGFATotal</th>\n",
              "      <th>PropertyGFAParking</th>\n",
              "      <th>PropertyGFABuilding(s)</th>\n",
              "      <th>LargestPropertyUseType</th>\n",
              "      <th>LargestPropertyUseTypeGFA</th>\n",
              "      <th>SecondLargestPropertyUseType</th>\n",
              "      <th>SecondLargestPropertyUseTypeGFA</th>\n",
              "      <th>ThirdLargestPropertyUseType</th>\n",
              "      <th>ThirdLargestPropertyUseTypeGFA</th>\n",
              "      <th>YearsENERGYSTARCertified</th>\n",
              "      <th>ENERGYSTARScore</th>\n",
              "      <th>SiteEUI(kBtu/sf)</th>\n",
              "      <th>SiteEUIWN(kBtu/sf)</th>\n",
              "      <th>SourceEUI(kBtu/sf)</th>\n",
              "      <th>SourceEUIWN(kBtu/sf)</th>\n",
              "      <th>SiteEnergyUse(kBtu)</th>\n",
              "      <th>SiteEnergyUseWN(kBtu)</th>\n",
              "      <th>SteamUse(kBtu)</th>\n",
              "      <th>Electricity(kWh)</th>\n",
              "      <th>Electricity(kBtu)</th>\n",
              "      <th>NaturalGas(therms)</th>\n",
              "      <th>NaturalGas(kBtu)</th>\n",
              "      <th>TotalGHGEmissions</th>\n",
              "      <th>GHGEmissionsIntensity</th>\n",
              "      <th>Latitude</th>\n",
              "      <th>Longitude</th>\n",
              "    </tr>\n",
              "  </thead>\n",
              "  <tbody>\n",
              "    <tr>\n",
              "      <th>0</th>\n",
              "      <td>1</td>\n",
              "      <td>2015</td>\n",
              "      <td>NonResidential</td>\n",
              "      <td>Hotel</td>\n",
              "      <td>7</td>\n",
              "      <td>DOWNTOWN</td>\n",
              "      <td>1927</td>\n",
              "      <td>1.0</td>\n",
              "      <td>12.0</td>\n",
              "      <td>88434</td>\n",
              "      <td>0</td>\n",
              "      <td>88434</td>\n",
              "      <td>Hotel</td>\n",
              "      <td>88434.0</td>\n",
              "      <td>NaN</td>\n",
              "      <td>NaN</td>\n",
              "      <td>NaN</td>\n",
              "      <td>NaN</td>\n",
              "      <td>NaN</td>\n",
              "      <td>65.0</td>\n",
              "      <td>78.9</td>\n",
              "      <td>80.3</td>\n",
              "      <td>173.5</td>\n",
              "      <td>175.1</td>\n",
              "      <td>6981428.0</td>\n",
              "      <td>7097539.0</td>\n",
              "      <td>2023032.0</td>\n",
              "      <td>1080307.0</td>\n",
              "      <td>3686160.0</td>\n",
              "      <td>12724.0</td>\n",
              "      <td>1272388.0</td>\n",
              "      <td>249.43</td>\n",
              "      <td>2.64</td>\n",
              "      <td>47.61219025</td>\n",
              "      <td>-122.33799744</td>\n",
              "    </tr>\n",
              "    <tr>\n",
              "      <th>1</th>\n",
              "      <td>2</td>\n",
              "      <td>2015</td>\n",
              "      <td>NonResidential</td>\n",
              "      <td>Hotel</td>\n",
              "      <td>7</td>\n",
              "      <td>DOWNTOWN</td>\n",
              "      <td>1996</td>\n",
              "      <td>1.0</td>\n",
              "      <td>11.0</td>\n",
              "      <td>103566</td>\n",
              "      <td>15064</td>\n",
              "      <td>88502</td>\n",
              "      <td>Hotel</td>\n",
              "      <td>83880.0</td>\n",
              "      <td>Parking</td>\n",
              "      <td>15064.0</td>\n",
              "      <td>Restaurant</td>\n",
              "      <td>4622.0</td>\n",
              "      <td>NaN</td>\n",
              "      <td>51.0</td>\n",
              "      <td>94.4</td>\n",
              "      <td>99.0</td>\n",
              "      <td>191.3</td>\n",
              "      <td>195.2</td>\n",
              "      <td>8354235.0</td>\n",
              "      <td>8765788.0</td>\n",
              "      <td>0.0</td>\n",
              "      <td>1144563.0</td>\n",
              "      <td>3905411.0</td>\n",
              "      <td>44490.0</td>\n",
              "      <td>4448985.0</td>\n",
              "      <td>263.51</td>\n",
              "      <td>2.38</td>\n",
              "      <td>47.61310583</td>\n",
              "      <td>-122.33335756</td>\n",
              "    </tr>\n",
              "    <tr>\n",
              "      <th>2</th>\n",
              "      <td>3</td>\n",
              "      <td>2015</td>\n",
              "      <td>NonResidential</td>\n",
              "      <td>Hotel</td>\n",
              "      <td>7</td>\n",
              "      <td>DOWNTOWN</td>\n",
              "      <td>1969</td>\n",
              "      <td>1.0</td>\n",
              "      <td>41.0</td>\n",
              "      <td>961990</td>\n",
              "      <td>0</td>\n",
              "      <td>961990</td>\n",
              "      <td>Hotel</td>\n",
              "      <td>757243.0</td>\n",
              "      <td>Parking</td>\n",
              "      <td>100000.0</td>\n",
              "      <td>Swimming Pool</td>\n",
              "      <td>0.0</td>\n",
              "      <td>NaN</td>\n",
              "      <td>18.0</td>\n",
              "      <td>96.6</td>\n",
              "      <td>99.7</td>\n",
              "      <td>242.7</td>\n",
              "      <td>246.5</td>\n",
              "      <td>73130656.0</td>\n",
              "      <td>75506272.0</td>\n",
              "      <td>19660404.0</td>\n",
              "      <td>14583930.0</td>\n",
              "      <td>49762435.0</td>\n",
              "      <td>37099.0</td>\n",
              "      <td>3709900.0</td>\n",
              "      <td>2061.48</td>\n",
              "      <td>1.92</td>\n",
              "      <td>47.61334897</td>\n",
              "      <td>-122.33769944</td>\n",
              "    </tr>\n",
              "    <tr>\n",
              "      <th>3</th>\n",
              "      <td>5</td>\n",
              "      <td>2015</td>\n",
              "      <td>NonResidential</td>\n",
              "      <td>Hotel</td>\n",
              "      <td>7</td>\n",
              "      <td>DOWNTOWN</td>\n",
              "      <td>1926</td>\n",
              "      <td>1.0</td>\n",
              "      <td>10.0</td>\n",
              "      <td>61320</td>\n",
              "      <td>0</td>\n",
              "      <td>61320</td>\n",
              "      <td>Hotel</td>\n",
              "      <td>61320.0</td>\n",
              "      <td>NaN</td>\n",
              "      <td>NaN</td>\n",
              "      <td>NaN</td>\n",
              "      <td>NaN</td>\n",
              "      <td>NaN</td>\n",
              "      <td>1.0</td>\n",
              "      <td>460.4</td>\n",
              "      <td>462.5</td>\n",
              "      <td>636.3</td>\n",
              "      <td>643.2</td>\n",
              "      <td>28229320.0</td>\n",
              "      <td>28363444.0</td>\n",
              "      <td>23458518.0</td>\n",
              "      <td>811521.0</td>\n",
              "      <td>2769023.0</td>\n",
              "      <td>20019.0</td>\n",
              "      <td>2001894.0</td>\n",
              "      <td>1936.34</td>\n",
              "      <td>31.38</td>\n",
              "      <td>47.61421585</td>\n",
              "      <td>-122.33660889</td>\n",
              "    </tr>\n",
              "    <tr>\n",
              "      <th>4</th>\n",
              "      <td>8</td>\n",
              "      <td>2015</td>\n",
              "      <td>NonResidential</td>\n",
              "      <td>Hotel</td>\n",
              "      <td>7</td>\n",
              "      <td>DOWNTOWN</td>\n",
              "      <td>1980</td>\n",
              "      <td>1.0</td>\n",
              "      <td>18.0</td>\n",
              "      <td>119890</td>\n",
              "      <td>12460</td>\n",
              "      <td>107430</td>\n",
              "      <td>Hotel</td>\n",
              "      <td>123445.0</td>\n",
              "      <td>Parking</td>\n",
              "      <td>68009.0</td>\n",
              "      <td>Swimming Pool</td>\n",
              "      <td>0.0</td>\n",
              "      <td>NaN</td>\n",
              "      <td>67.0</td>\n",
              "      <td>120.1</td>\n",
              "      <td>122.1</td>\n",
              "      <td>228.8</td>\n",
              "      <td>227.1</td>\n",
              "      <td>14829099.0</td>\n",
              "      <td>15078243.0</td>\n",
              "      <td>0.0</td>\n",
              "      <td>1777841.0</td>\n",
              "      <td>6066245.0</td>\n",
              "      <td>87631.0</td>\n",
              "      <td>8763105.0</td>\n",
              "      <td>507.70</td>\n",
              "      <td>4.02</td>\n",
              "      <td>47.6137544</td>\n",
              "      <td>-122.3409238</td>\n",
              "    </tr>\n",
              "  </tbody>\n",
              "</table>\n",
              "</div>"
            ],
            "text/plain": [
              "   OSEBuildingID  DataYear  ...     Latitude      Longitude\n",
              "0              1      2015  ...  47.61219025  -122.33799744\n",
              "1              2      2015  ...  47.61310583  -122.33335756\n",
              "2              3      2015  ...  47.61334897  -122.33769944\n",
              "3              5      2015  ...  47.61421585  -122.33660889\n",
              "4              8      2015  ...   47.6137544   -122.3409238\n",
              "\n",
              "[5 rows x 35 columns]"
            ]
          },
          "metadata": {
            "tags": []
          },
          "execution_count": 63
        }
      ]
    },
    {
      "cell_type": "markdown",
      "metadata": {
        "id": "yshoGX-bJtPL",
        "colab_type": "text"
      },
      "source": [
        "###Valeurs négatives"
      ]
    },
    {
      "cell_type": "code",
      "metadata": {
        "id": "NhnVODqmJwOL",
        "colab_type": "code",
        "colab": {
          "base_uri": "https://localhost:8080/",
          "height": 527
        },
        "outputId": "17a118ed-d8fa-431b-b422-2a70e7083901"
      },
      "source": [
        "data.min()"
      ],
      "execution_count": null,
      "outputs": [
        {
          "output_type": "execute_result",
          "data": {
            "text/plain": [
              "OSEBuildingID                                       1\n",
              "DataYear                                         2015\n",
              "BuildingType                                   Campus\n",
              "PrimaryPropertyType                College/University\n",
              "CouncilDistrictCode                                 1\n",
              "Neighborhood                                  BALLARD\n",
              "YearBuilt                                        1900\n",
              "NumberofBuildings                                   0\n",
              "NumberofFloors                                      0\n",
              "PropertyGFATotal                                11285\n",
              "PropertyGFAParking                                 -3\n",
              "PropertyGFABuilding(s)                         -50550\n",
              "LargestPropertyUseTypeGFA                        5656\n",
              "SecondLargestPropertyUseTypeGFA                     0\n",
              "ThirdLargestPropertyUseTypeGFA                      0\n",
              "ENERGYSTARScore                                     1\n",
              "SiteEUI(kBtu/sf)                                    0\n",
              "SiteEUIWN(kBtu/sf)                                  0\n",
              "SourceEUI(kBtu/sf)                                 -2\n",
              "SourceEUIWN(kBtu/sf)                             -2.1\n",
              "SiteEnergyUse(kBtu)                                 0\n",
              "SiteEnergyUseWN(kBtu)                               0\n",
              "SteamUse(kBtu)                                      0\n",
              "Electricity(kWh)                             -33826.8\n",
              "Electricity(kBtu)                             -115417\n",
              "NaturalGas(therms)                                  0\n",
              "NaturalGas(kBtu)                                    0\n",
              "TotalGHGEmissions                                -0.8\n",
              "GHGEmissionsIntensity                           -0.02\n",
              "dtype: object"
            ]
          },
          "metadata": {
            "tags": []
          },
          "execution_count": 24
        }
      ]
    },
    {
      "cell_type": "code",
      "metadata": {
        "id": "mdfQAf-oK_gh",
        "colab_type": "code",
        "colab": {}
      },
      "source": [
        "#renvoi un Nan si valeur négative"
      ],
      "execution_count": null,
      "outputs": []
    },
    {
      "cell_type": "code",
      "metadata": {
        "id": "hJxA4vzjEWA4",
        "colab_type": "code",
        "colab": {}
      },
      "source": [
        "col_nega=['PropertyGFAParking','PropertyGFABuilding(s)', 'SourceEUI(kBtu/sf)','SourceEUIWN(kBtu/sf)','Electricity(kWh)',\n",
        "          'Electricity(kBtu)','TotalGHGEmissions','GHGEmissionsIntensity']\n",
        "for col in col_nega:\n",
        "  data[col]=[val if val>=0 else np.NaN for val in data[col]]"
      ],
      "execution_count": null,
      "outputs": []
    },
    {
      "cell_type": "markdown",
      "metadata": {
        "id": "xQ5ALtLbMFZn",
        "colab_type": "text"
      },
      "source": [
        "### Valeurs nulles"
      ]
    },
    {
      "cell_type": "code",
      "metadata": {
        "id": "M_QcWovpLrV3",
        "colab_type": "code",
        "colab": {}
      },
      "source": [
        "# si NumberofBuildings est nul la valeurs est fixé Nan"
      ],
      "execution_count": null,
      "outputs": []
    },
    {
      "cell_type": "code",
      "metadata": {
        "id": "JHEiHI0BLzEv",
        "colab_type": "code",
        "colab": {}
      },
      "source": [
        "data['NumberofBuildings']=[val if val==0 else np.NaN for val in data['NumberofBuildings']]"
      ],
      "execution_count": null,
      "outputs": []
    },
    {
      "cell_type": "markdown",
      "metadata": {
        "id": "UD3kDiwzOSIz",
        "colab_type": "text"
      },
      "source": [
        "### Valeurs doublons"
      ]
    },
    {
      "cell_type": "code",
      "metadata": {
        "id": "OGoJOzmAOWAM",
        "colab_type": "code",
        "colab": {}
      },
      "source": [
        "# recherche si ID apparait plus d'une fois dans les data de 2015 et 2016"
      ],
      "execution_count": null,
      "outputs": []
    },
    {
      "cell_type": "code",
      "metadata": {
        "id": "sqEbkO2qOcDE",
        "colab_type": "code",
        "colab": {
          "base_uri": "https://localhost:8080/",
          "height": 34
        },
        "outputId": "ee15b021-1a97-4051-c491-9c811b20efa9"
      },
      "source": [
        "len(data_2015_location)-data_2015_location['OSEBuildingID'].nunique()"
      ],
      "execution_count": null,
      "outputs": [
        {
          "output_type": "execute_result",
          "data": {
            "text/plain": [
              "0"
            ]
          },
          "metadata": {
            "tags": []
          },
          "execution_count": 35
        }
      ]
    },
    {
      "cell_type": "code",
      "metadata": {
        "id": "LpfCe3hROdHs",
        "colab_type": "code",
        "colab": {
          "base_uri": "https://localhost:8080/",
          "height": 34
        },
        "outputId": "23655e1e-b95b-409a-a8ee-cf324c1d57a1"
      },
      "source": [
        "len(data_2016)-data_2016['OSEBuildingID'].nunique()"
      ],
      "execution_count": null,
      "outputs": [
        {
          "output_type": "execute_result",
          "data": {
            "text/plain": [
              "0"
            ]
          },
          "metadata": {
            "tags": []
          },
          "execution_count": 36
        }
      ]
    },
    {
      "cell_type": "code",
      "metadata": {
        "id": "99IpX6iJOhKn",
        "colab_type": "code",
        "colab": {}
      },
      "source": [
        "### Pas de valeurs doublons"
      ],
      "execution_count": null,
      "outputs": []
    },
    {
      "cell_type": "markdown",
      "metadata": {
        "id": "K66_pd3nV7oJ",
        "colab_type": "text"
      },
      "source": [
        "### Featuring"
      ]
    },
    {
      "cell_type": "markdown",
      "metadata": {
        "id": "unfz5bhnV2oo",
        "colab_type": "text"
      },
      "source": [
        "#### Taux de NaN"
      ]
    },
    {
      "cell_type": "code",
      "metadata": {
        "id": "ep5f-OtYWQj3",
        "colab_type": "code",
        "colab": {}
      },
      "source": [
        ""
      ],
      "execution_count": null,
      "outputs": []
    },
    {
      "cell_type": "code",
      "metadata": {
        "id": "IxNHQ78qoUtD",
        "colab_type": "code",
        "colab": {}
      },
      "source": [
        "#NaN par indicateur\n",
        "def tau_nan(setframe):\n",
        "  frame=setframe.copy()\n",
        "  #par indicateur  \n",
        "  taux_Nan_ind = [] \n",
        "  for i in range(len(frame.columns)): \n",
        "      taux_Nan_ind.append(frame[frame.columns[i]].isnull().sum()/len(frame)*100)\n",
        "  data_NaN_indi=pd.DataFrame({'Indicateur': frame.columns, 'Taux NaN' : taux_Nan_ind})\n",
        "  print('taux de NaN par indicateur:')\n",
        "  data_NaN_indi['Taux NaN'].hist()\n",
        "  plt.show()\n",
        "  #par entrée\n",
        "  taux_Nan_ent = [] \n",
        "  for i in range(len(frame)):\n",
        "    taux_Nan_ent.append(frame.iloc[i].isnull().sum()/(len(frame.columns))*100)\n",
        "\n",
        "  data_NaN_ent=pd.DataFrame({'Entrée': frame.index, 'Taux NaN' : taux_Nan_ent})\n",
        "  print('taux de NaN par entrée:')\n",
        "  data_NaN_ent['Taux NaN'].hist()\n",
        "  plt.show()\n",
        "  return data_NaN_indi,data_NaN_ent"
      ],
      "execution_count": null,
      "outputs": []
    },
    {
      "cell_type": "code",
      "metadata": {
        "id": "Cj9P9m9io9XY",
        "colab_type": "code",
        "colab": {
          "base_uri": "https://localhost:8080/",
          "height": 547
        },
        "outputId": "ecc0f7dd-496f-4403-937e-8c628720c25e"
      },
      "source": [
        "Nan_ind , Nan_ent = tau_nan(data)"
      ],
      "execution_count": null,
      "outputs": [
        {
          "output_type": "stream",
          "text": [
            "taux de NaN par indicateur:\n"
          ],
          "name": "stdout"
        },
        {
          "output_type": "display_data",
          "data": {
            "image/png": "[encoded data removed]",
            "text/plain": [
              "<Figure size 432x288 with 1 Axes>"
            ]
          },
          "metadata": {
            "tags": [],
            "needs_background": "light"
          }
        },
        {
          "output_type": "stream",
          "text": [
            "taux de NaN par entrée:\n"
          ],
          "name": "stdout"
        },
        {
          "output_type": "display_data",
          "data": {
            "image/png": "[encoded data removed]",
            "text/plain": [
              "<Figure size 432x288 with 1 Axes>"
            ]
          },
          "metadata": {
            "tags": [],
            "needs_background": "light"
          }
        }
      ]
    },
    {
      "cell_type": "markdown",
      "metadata": {
        "id": "45GWil9pVyVw",
        "colab_type": "text"
      },
      "source": [
        "#### Selection des indicateur à modéliser"
      ]
    },
    {
      "cell_type": "code",
      "metadata": {
        "id": "UfPae9vVHut9",
        "colab_type": "code",
        "colab": {
          "base_uri": "https://localhost:8080/",
          "height": 1000
        },
        "outputId": "6f02bf8d-81d5-4f4b-da9e-cec4fdd659d3"
      },
      "source": [
        "Nan_ind"
      ],
      "execution_count": null,
      "outputs": [
        {
          "output_type": "execute_result",
          "data": {
            "text/html": [
              "<div>\n",
              "<style scoped>\n",
              "    .dataframe tbody tr th:only-of-type {\n",
              "        vertical-align: middle;\n",
              "    }\n",
              "\n",
              "    .dataframe tbody tr th {\n",
              "        vertical-align: top;\n",
              "    }\n",
              "\n",
              "    .dataframe thead th {\n",
              "        text-align: right;\n",
              "    }\n",
              "</style>\n",
              "<table border=\"1\" class=\"dataframe\">\n",
              "  <thead>\n",
              "    <tr style=\"text-align: right;\">\n",
              "      <th></th>\n",
              "      <th>Indicateur</th>\n",
              "      <th>Taux NaN</th>\n",
              "    </tr>\n",
              "  </thead>\n",
              "  <tbody>\n",
              "    <tr>\n",
              "      <th>0</th>\n",
              "      <td>OSEBuildingID</td>\n",
              "      <td>0.000000</td>\n",
              "    </tr>\n",
              "    <tr>\n",
              "      <th>1</th>\n",
              "      <td>DataYear</td>\n",
              "      <td>0.000000</td>\n",
              "    </tr>\n",
              "    <tr>\n",
              "      <th>2</th>\n",
              "      <td>BuildingType</td>\n",
              "      <td>0.000000</td>\n",
              "    </tr>\n",
              "    <tr>\n",
              "      <th>3</th>\n",
              "      <td>PrimaryPropertyType</td>\n",
              "      <td>0.000000</td>\n",
              "    </tr>\n",
              "    <tr>\n",
              "      <th>4</th>\n",
              "      <td>CouncilDistrictCode</td>\n",
              "      <td>0.000000</td>\n",
              "    </tr>\n",
              "    <tr>\n",
              "      <th>5</th>\n",
              "      <td>Neighborhood</td>\n",
              "      <td>0.000000</td>\n",
              "    </tr>\n",
              "    <tr>\n",
              "      <th>6</th>\n",
              "      <td>YearBuilt</td>\n",
              "      <td>0.000000</td>\n",
              "    </tr>\n",
              "    <tr>\n",
              "      <th>7</th>\n",
              "      <td>NumberofBuildings</td>\n",
              "      <td>98.630137</td>\n",
              "    </tr>\n",
              "    <tr>\n",
              "      <th>8</th>\n",
              "      <td>NumberofFloors</td>\n",
              "      <td>0.119119</td>\n",
              "    </tr>\n",
              "    <tr>\n",
              "      <th>9</th>\n",
              "      <td>PropertyGFATotal</td>\n",
              "      <td>0.000000</td>\n",
              "    </tr>\n",
              "    <tr>\n",
              "      <th>10</th>\n",
              "      <td>PropertyGFAParking</td>\n",
              "      <td>0.029780</td>\n",
              "    </tr>\n",
              "    <tr>\n",
              "      <th>11</th>\n",
              "      <td>PropertyGFABuilding(s)</td>\n",
              "      <td>0.029780</td>\n",
              "    </tr>\n",
              "    <tr>\n",
              "      <th>12</th>\n",
              "      <td>LargestPropertyUseType</td>\n",
              "      <td>2.322811</td>\n",
              "    </tr>\n",
              "    <tr>\n",
              "      <th>13</th>\n",
              "      <td>LargestPropertyUseTypeGFA</td>\n",
              "      <td>2.322811</td>\n",
              "    </tr>\n",
              "    <tr>\n",
              "      <th>14</th>\n",
              "      <td>SecondLargestPropertyUseType</td>\n",
              "      <td>51.786778</td>\n",
              "    </tr>\n",
              "    <tr>\n",
              "      <th>15</th>\n",
              "      <td>SecondLargestPropertyUseTypeGFA</td>\n",
              "      <td>51.786778</td>\n",
              "    </tr>\n",
              "    <tr>\n",
              "      <th>16</th>\n",
              "      <td>ThirdLargestPropertyUseType</td>\n",
              "      <td>82.787373</td>\n",
              "    </tr>\n",
              "    <tr>\n",
              "      <th>17</th>\n",
              "      <td>ThirdLargestPropertyUseTypeGFA</td>\n",
              "      <td>82.787373</td>\n",
              "    </tr>\n",
              "    <tr>\n",
              "      <th>18</th>\n",
              "      <td>YearsENERGYSTARCertified</td>\n",
              "      <td>96.590232</td>\n",
              "    </tr>\n",
              "    <tr>\n",
              "      <th>19</th>\n",
              "      <td>ENERGYSTARScore</td>\n",
              "      <td>24.166170</td>\n",
              "    </tr>\n",
              "    <tr>\n",
              "      <th>20</th>\n",
              "      <td>SiteEUI(kBtu/sf)</td>\n",
              "      <td>0.253127</td>\n",
              "    </tr>\n",
              "    <tr>\n",
              "      <th>21</th>\n",
              "      <td>SiteEUIWN(kBtu/sf)</td>\n",
              "      <td>0.238237</td>\n",
              "    </tr>\n",
              "    <tr>\n",
              "      <th>22</th>\n",
              "      <td>SourceEUI(kBtu/sf)</td>\n",
              "      <td>0.297796</td>\n",
              "    </tr>\n",
              "    <tr>\n",
              "      <th>23</th>\n",
              "      <td>SourceEUIWN(kBtu/sf)</td>\n",
              "      <td>0.312686</td>\n",
              "    </tr>\n",
              "    <tr>\n",
              "      <th>24</th>\n",
              "      <td>SiteEnergyUse(kBtu)</td>\n",
              "      <td>0.223347</td>\n",
              "    </tr>\n",
              "    <tr>\n",
              "      <th>25</th>\n",
              "      <td>SiteEnergyUseWN(kBtu)</td>\n",
              "      <td>0.238237</td>\n",
              "    </tr>\n",
              "    <tr>\n",
              "      <th>26</th>\n",
              "      <td>SteamUse(kBtu)</td>\n",
              "      <td>0.282906</td>\n",
              "    </tr>\n",
              "    <tr>\n",
              "      <th>27</th>\n",
              "      <td>Electricity(kWh)</td>\n",
              "      <td>0.297796</td>\n",
              "    </tr>\n",
              "    <tr>\n",
              "      <th>28</th>\n",
              "      <td>Electricity(kBtu)</td>\n",
              "      <td>0.297796</td>\n",
              "    </tr>\n",
              "    <tr>\n",
              "      <th>29</th>\n",
              "      <td>NaturalGas(therms)</td>\n",
              "      <td>0.282906</td>\n",
              "    </tr>\n",
              "    <tr>\n",
              "      <th>30</th>\n",
              "      <td>NaturalGas(kBtu)</td>\n",
              "      <td>0.282906</td>\n",
              "    </tr>\n",
              "    <tr>\n",
              "      <th>31</th>\n",
              "      <td>TotalGHGEmissions</td>\n",
              "      <td>0.297796</td>\n",
              "    </tr>\n",
              "    <tr>\n",
              "      <th>32</th>\n",
              "      <td>GHGEmissionsIntensity</td>\n",
              "      <td>0.297796</td>\n",
              "    </tr>\n",
              "    <tr>\n",
              "      <th>33</th>\n",
              "      <td>Latitude</td>\n",
              "      <td>0.000000</td>\n",
              "    </tr>\n",
              "    <tr>\n",
              "      <th>34</th>\n",
              "      <td>Longitude</td>\n",
              "      <td>0.000000</td>\n",
              "    </tr>\n",
              "  </tbody>\n",
              "</table>\n",
              "</div>"
            ],
            "text/plain": [
              "                         Indicateur   Taux NaN\n",
              "0                     OSEBuildingID   0.000000\n",
              "1                          DataYear   0.000000\n",
              "2                      BuildingType   0.000000\n",
              "3               PrimaryPropertyType   0.000000\n",
              "4               CouncilDistrictCode   0.000000\n",
              "5                      Neighborhood   0.000000\n",
              "6                         YearBuilt   0.000000\n",
              "7                 NumberofBuildings  98.630137\n",
              "8                    NumberofFloors   0.119119\n",
              "9                  PropertyGFATotal   0.000000\n",
              "10               PropertyGFAParking   0.029780\n",
              "11           PropertyGFABuilding(s)   0.029780\n",
              "12           LargestPropertyUseType   2.322811\n",
              "13        LargestPropertyUseTypeGFA   2.322811\n",
              "14     SecondLargestPropertyUseType  51.786778\n",
              "15  SecondLargestPropertyUseTypeGFA  51.786778\n",
              "16      ThirdLargestPropertyUseType  82.787373\n",
              "17   ThirdLargestPropertyUseTypeGFA  82.787373\n",
              "18         YearsENERGYSTARCertified  96.590232\n",
              "19                  ENERGYSTARScore  24.166170\n",
              "20                 SiteEUI(kBtu/sf)   0.253127\n",
              "21               SiteEUIWN(kBtu/sf)   0.238237\n",
              "22               SourceEUI(kBtu/sf)   0.297796\n",
              "23             SourceEUIWN(kBtu/sf)   0.312686\n",
              "24              SiteEnergyUse(kBtu)   0.223347\n",
              "25            SiteEnergyUseWN(kBtu)   0.238237\n",
              "26                   SteamUse(kBtu)   0.282906\n",
              "27                 Electricity(kWh)   0.297796\n",
              "28                Electricity(kBtu)   0.297796\n",
              "29               NaturalGas(therms)   0.282906\n",
              "30                 NaturalGas(kBtu)   0.282906\n",
              "31                TotalGHGEmissions   0.297796\n",
              "32            GHGEmissionsIntensity   0.297796\n",
              "33                         Latitude   0.000000\n",
              "34                        Longitude   0.000000"
            ]
          },
          "metadata": {
            "tags": []
          },
          "execution_count": 39
        }
      ]
    },
    {
      "cell_type": "code",
      "metadata": {
        "id": "Yw2sSFy1J69H",
        "colab_type": "code",
        "colab": {}
      },
      "source": [
        "### Indicateur à supprimer si taux de Nan trop élevé (on garde ThirdLargestPropertyUseTypeGFA car dépend du nb de building )"
      ],
      "execution_count": null,
      "outputs": []
    },
    {
      "cell_type": "code",
      "metadata": {
        "id": "XJJBrcqEIWBa",
        "colab_type": "code",
        "colab": {}
      },
      "source": [
        "data=data.drop(['NumberofBuildings','YearsENERGYSTARCertified'],axis=1)"
      ],
      "execution_count": null,
      "outputs": []
    },
    {
      "cell_type": "code",
      "metadata": {
        "id": "x8H4VCeEJzoy",
        "colab_type": "code",
        "colab": {}
      },
      "source": [
        "### indicateur à modéliser : TotalGHGEmissions et SiteEnergyUseWN(kBtu)"
      ],
      "execution_count": null,
      "outputs": []
    },
    {
      "cell_type": "code",
      "metadata": {
        "id": "-rU_OchzJ6SV",
        "colab_type": "code",
        "colab": {}
      },
      "source": [
        "data_ind_final= data.drop(['SiteEUI(kBtu/sf)',\n",
        "                        'SiteEUIWN(kBtu/sf)',\n",
        "                        'SourceEUI(kBtu/sf)',\n",
        "                        'SourceEUIWN(kBtu/sf)',\n",
        "                        'SiteEnergyUse(kBtu)',\n",
        "                        'SteamUse(kBtu)',\n",
        "                        'Electricity(kWh)',\n",
        "                        'Electricity(kBtu)',\n",
        "                        'NaturalGas(therms)',\n",
        "                        'NaturalGas(kBtu)',\n",
        "                        'GHGEmissionsIntensity']\n",
        "                        ,axis=1)"
      ],
      "execution_count": null,
      "outputs": []
    },
    {
      "cell_type": "markdown",
      "metadata": {
        "id": "YqXjrA4iv65n",
        "colab_type": "text"
      },
      "source": [
        "### stat\n"
      ]
    },
    {
      "cell_type": "code",
      "metadata": {
        "id": "HEnG9nI1QKu1",
        "colab_type": "code",
        "colab": {}
      },
      "source": [
        "#fonction pour calculer des stats, tracer la distribution et le boxplot pour chaque indicateur\n",
        "def analyse_uni (frame,liste_catégorie):\n",
        "    \n",
        "    for cat in liste_catégorie:\n",
        "        \n",
        "        print('pour la catégorie :', cat)\n",
        "        print(\"-\"*20)\n",
        "        print(\"moy:\\n\",frame[cat].mean())#moyenne\n",
        "        print(\"med:\\n\",frame[cat].median())#mediane\n",
        "        print(\"mod:\\n\",frame[cat].mode())#modale\n",
        "        print(\"var:\\n\",frame[cat].var(ddof=0))#variance\n",
        "        print(\"ect:\\n\",frame[cat].std(ddof=0))#ecart type\n",
        "        print(\"skw:\\n\",frame[cat].skew())#asymétrie\n",
        "        print(\"kur:\\n\",frame[cat].kurtosis())#aplatissement\n",
        "        print(\"-\"*20)\n",
        "        \n",
        "        frame[cat].hist(bins=25)\n",
        "        plt.show()\n",
        "        \n",
        "        df=pd.DataFrame(frame[cat].copy())\n",
        "        \n",
        "        df.boxplot(column=cat, vert=False, showfliers=True)\n",
        "        plt.show()\n",
        "        "
      ],
      "execution_count": null,
      "outputs": []
    },
    {
      "cell_type": "code",
      "metadata": {
        "id": "FcyQibcEQbXZ",
        "colab_type": "code",
        "colab": {
          "base_uri": "https://localhost:8080/",
          "height": 1000
        },
        "outputId": "cf929949-5450-4c81-8ac8-8c05c8efd483"
      },
      "source": [
        "analyse_uni(data_ind_final,data_ind_final.select_dtypes(include = ['int32','float64']).columns.tolist())"
      ],
      "execution_count": null,
      "outputs": [
        {
          "output_type": "stream",
          "text": [
            "pour la catégorie : NumberofFloors\n",
            "--------------------\n",
            "moy:\n",
            " 4.695736434108527\n",
            "med:\n",
            " 4.0\n",
            "mod:\n",
            " 0    3.0\n",
            "dtype: float64\n",
            "var:\n",
            " 29.984495835124427\n",
            "ect:\n",
            " 5.47581006200219\n",
            "skw:\n",
            " 5.973290934569678\n",
            "kur:\n",
            " 56.81135406832773\n",
            "--------------------\n"
          ],
          "name": "stdout"
        },
        {
          "output_type": "display_data",
          "data": {
            "image/png": "[encoded data removed]",
            "text/plain": [
              "<Figure size 432x288 with 1 Axes>"
            ]
          },
          "metadata": {
            "tags": [],
            "needs_background": "light"
          }
        },
        {
          "output_type": "display_data",
          "data": {
            "image/png": "[encoded data removed]",
            "text/plain": [
              "<Figure size 432x288 with 1 Axes>"
            ]
          },
          "metadata": {
            "tags": [],
            "needs_background": "light"
          }
        },
        {
          "output_type": "stream",
          "text": [
            "pour la catégorie : PropertyGFAParking\n",
            "--------------------\n",
            "moy:\n",
            " 9522.434465296396\n",
            "med:\n",
            " 0.0\n",
            "mod:\n",
            " 0    0.0\n",
            "dtype: float64\n",
            "var:\n",
            " 1147188696.831837\n",
            "ect:\n",
            " 33870.17414823604\n",
            "skw:\n",
            " 6.348097887369019\n",
            "kur:\n",
            " 54.52336680147904\n",
            "--------------------\n"
          ],
          "name": "stdout"
        },
        {
          "output_type": "display_data",
          "data": {
            "image/png": "[encoded data removed]",
            "text/plain": [
              "<Figure size 432x288 with 1 Axes>"
            ]
          },
          "metadata": {
            "tags": [],
            "needs_background": "light"
          }
        },
        {
          "output_type": "display_data",
          "data": {
            "image/png": "[encoded data removed]",
            "text/plain": [
              "<Figure size 432x288 with 1 Axes>"
            ]
          },
          "metadata": {
            "tags": [],
            "needs_background": "light"
          }
        },
        {
          "output_type": "stream",
          "text": [
            "pour la catégorie : PropertyGFABuilding(s)\n",
            "--------------------\n",
            "moy:\n",
            " 83333.29222520108\n",
            "med:\n",
            " 42188.0\n",
            "mod:\n",
            " 0    21600.0\n",
            "1    25920.0\n",
            "2    36000.0\n",
            "dtype: float64\n",
            "var:\n",
            " 30048609403.429626\n",
            "ect:\n",
            " 173345.3472217516\n",
            "skw:\n",
            " 25.349417467255073\n",
            "kur:\n",
            " 1219.7661670835084\n",
            "--------------------\n"
          ],
          "name": "stdout"
        },
        {
          "output_type": "display_data",
          "data": {
            "image/png": "[encoded data removed]",
            "text/plain": [
              "<Figure size 432x288 with 1 Axes>"
            ]
          },
          "metadata": {
            "tags": [],
            "needs_background": "light"
          }
        },
        {
          "output_type": "display_data",
          "data": {
            "image/png": "[encoded data removed]",
            "text/plain": [
              "<Figure size 432x288 with 1 Axes>"
            ]
          },
          "metadata": {
            "tags": [],
            "needs_background": "light"
          }
        },
        {
          "output_type": "stream",
          "text": [
            "pour la catégorie : LargestPropertyUseTypeGFA\n",
            "--------------------\n",
            "moy:\n",
            " 77079.36204268293\n",
            "med:\n",
            " 39530.0\n",
            "mod:\n",
            " 0    22000.0\n",
            "1    24000.0\n",
            "dtype: float64\n",
            "var:\n",
            " 28274046466.102047\n",
            "ect:\n",
            " 168148.88184612483\n",
            "skw:\n",
            " 27.821282767370857\n",
            "kur:\n",
            " 1407.0185305677628\n",
            "--------------------\n"
          ],
          "name": "stdout"
        },
        {
          "output_type": "display_data",
          "data": {
            "image/png": "[encoded data removed]",
            "text/plain": [
              "<Figure size 432x288 with 1 Axes>"
            ]
          },
          "metadata": {
            "tags": [],
            "needs_background": "light"
          }
        },
        {
          "output_type": "display_data",
          "data": {
            "image/png": "[encoded data removed]",
            "text/plain": [
              "<Figure size 432x288 with 1 Axes>"
            ]
          },
          "metadata": {
            "tags": [],
            "needs_background": "light"
          }
        },
        {
          "output_type": "stream",
          "text": [
            "pour la catégorie : SecondLargestPropertyUseTypeGFA\n",
            "--------------------\n",
            "moy:\n",
            " 28074.10015345275\n",
            "med:\n",
            " 10631.0\n",
            "mod:\n",
            " 0    0.0\n",
            "dtype: float64\n",
            "var:\n",
            " 2858583941.7683\n",
            "ect:\n",
            " 53465.726795474315\n",
            "skw:\n",
            " 4.961205067572829\n",
            "kur:\n",
            " 35.00342977012479\n",
            "--------------------\n"
          ],
          "name": "stdout"
        },
        {
          "output_type": "display_data",
          "data": {
            "image/png": "[encoded data removed]",
            "text/plain": [
              "<Figure size 432x288 with 1 Axes>"
            ]
          },
          "metadata": {
            "tags": [],
            "needs_background": "light"
          }
        },
        {
          "output_type": "display_data",
          "data": {
            "image/png": "[encoded data removed]",
            "text/plain": [
              "<Figure size 432x288 with 1 Axes>"
            ]
          },
          "metadata": {
            "tags": [],
            "needs_background": "light"
          }
        },
        {
          "output_type": "stream",
          "text": [
            "pour la catégorie : ThirdLargestPropertyUseTypeGFA\n",
            "--------------------\n",
            "moy:\n",
            " 11262.497749726645\n",
            "med:\n",
            " 5039.0\n",
            "mod:\n",
            " 0    0.0\n",
            "dtype: float64\n",
            "var:\n",
            " 690443028.8066871\n",
            "ect:\n",
            " 26276.282629144618\n",
            "skw:\n",
            " 8.820286143512078\n",
            "kur:\n",
            " 110.17002495833425\n",
            "--------------------\n"
          ],
          "name": "stdout"
        },
        {
          "output_type": "display_data",
          "data": {
            "image/png": "[encoded data removed]",
            "text/plain": [
              "<Figure size 432x288 with 1 Axes>"
            ]
          },
          "metadata": {
            "tags": [],
            "needs_background": "light"
          }
        },
        {
          "output_type": "display_data",
          "data": {
            "image/png": "[encoded data removed]",
            "text/plain": [
              "<Figure size 432x288 with 1 Axes>"
            ]
          },
          "metadata": {
            "tags": [],
            "needs_background": "light"
          }
        },
        {
          "output_type": "stream",
          "text": [
            "pour la catégorie : ENERGYSTARScore\n",
            "--------------------\n",
            "moy:\n",
            " 67.9063420380915\n",
            "med:\n",
            " 75.0\n",
            "mod:\n",
            " 0    100.0\n",
            "dtype: float64\n",
            "var:\n",
            " 729.511550196775\n",
            "ect:\n",
            " 27.0094714905119\n",
            "skw:\n",
            " -0.8552997703685197\n",
            "kur:\n",
            " -0.25088872406507656\n",
            "--------------------\n"
          ],
          "name": "stdout"
        },
        {
          "output_type": "display_data",
          "data": {
            "image/png": "[encoded data removed]",
            "text/plain": [
              "<Figure size 432x288 with 1 Axes>"
            ]
          },
          "metadata": {
            "tags": [],
            "needs_background": "light"
          }
        },
        {
          "output_type": "display_data",
          "data": {
            "image/png": "[encoded data removed]",
            "text/plain": [
              "<Figure size 432x288 with 1 Axes>"
            ]
          },
          "metadata": {
            "tags": [],
            "needs_background": "light"
          }
        },
        {
          "output_type": "stream",
          "text": [
            "pour la catégorie : SiteEnergyUseWN(kBtu)\n",
            "--------------------\n",
            "moy:\n",
            " 5240110.200673069\n",
            "med:\n",
            " 1926135.5\n",
            "mod:\n",
            " 0    0.0\n",
            "dtype: float64\n",
            "var:\n",
            " 225235204533955.56\n",
            "ect:\n",
            " 15007838.103269756\n",
            "skw:\n",
            " 14.03378140347664\n",
            "kur:\n",
            " 291.1389631079832\n",
            "--------------------\n"
          ],
          "name": "stdout"
        },
        {
          "output_type": "display_data",
          "data": {
            "image/png": "[encoded data removed]",
            "text/plain": [
              "<Figure size 432x288 with 1 Axes>"
            ]
          },
          "metadata": {
            "tags": [],
            "needs_background": "light"
          }
        },
        {
          "output_type": "display_data",
          "data": {
            "image/png": "[encoded data removed]",
            "text/plain": [
              "<Figure size 432x288 with 1 Axes>"
            ]
          },
          "metadata": {
            "tags": [],
            "needs_background": "light"
          }
        },
        {
          "output_type": "stream",
          "text": [
            "pour la catégorie : TotalGHGEmissions\n",
            "--------------------\n",
            "moy:\n",
            " 114.95292264038224\n",
            "med:\n",
            " 33.2\n",
            "mod:\n",
            " 0    0.00\n",
            "1    3.54\n",
            "dtype: float64\n",
            "var:\n",
            " 229320.7710434149\n",
            "ect:\n",
            " 478.87448360025917\n",
            "skw:\n",
            " 19.273344597204076\n",
            "kur:\n",
            " 489.40399929193103\n",
            "--------------------\n"
          ],
          "name": "stdout"
        },
        {
          "output_type": "display_data",
          "data": {
            "image/png": "[encoded data removed]",
            "text/plain": [
              "<Figure size 432x288 with 1 Axes>"
            ]
          },
          "metadata": {
            "tags": [],
            "needs_background": "light"
          }
        },
        {
          "output_type": "display_data",
          "data": {
            "image/png": "[encoded data removed]",
            "text/plain": [
              "<Figure size 432x288 with 1 Axes>"
            ]
          },
          "metadata": {
            "tags": [],
            "needs_background": "light"
          }
        }
      ]
    },
    {
      "cell_type": "markdown",
      "metadata": {
        "id": "5EJWTC15OnbM",
        "colab_type": "text"
      },
      "source": [
        "### Recherche d'Outliers\n"
      ]
    },
    {
      "cell_type": "markdown",
      "metadata": {
        "id": "czrf0wpIIqNk",
        "colab_type": "text"
      },
      "source": [
        "#### Imputation et KDTree"
      ]
    },
    {
      "cell_type": "code",
      "metadata": {
        "id": "6-j6meysOjEM",
        "colab_type": "code",
        "colab": {}
      },
      "source": [
        "def outlier_search(dataframe,liste_indicateur):\n",
        "\n",
        "  from sklearn.preprocessing import StandardScaler\n",
        "  from sklearn.impute import KNNImputer\n",
        "  from sklearn.neighbors import KDTree\n",
        "  import pickle\n",
        "\n",
        "\n",
        "  frame=dataframe.copy()\n",
        "  frame_to_clean=frame[liste_indicateur].copy()\n",
        "  frame_to_keep=frame.drop(liste_indicateur,axis=1).copy()\n",
        "\n",
        "\n",
        "  #normalisation des data\n",
        "  scaler = StandardScaler()\n",
        "  scal=scaler.fit_transform(frame_to_clean)\n",
        "      #pickle.dump(scaler, open('scaler_appli.pickle', 'wb'))\n",
        "  data_scal=pd.DataFrame(scal,columns=liste_indicateur)\n",
        "  \n",
        "  #imputation des NaN\n",
        "  data_work_imp=data_scal.copy()\n",
        "  imput=KNNImputer(n_neighbors=5)\n",
        "  imp=imput.fit_transform(data_work_imp)\n",
        "      #pickle.dump(imput, open('imput_nettoyage_app.pickle', 'wb'))\n",
        "  data_imp=pd.DataFrame(imp,columns=liste_indicateur)\n",
        "\n",
        "  #nettoyage des entrées par distance euclidienne\n",
        "  tree = KDTree(data_imp)#calcul de la distance euclidienne entre les 5 plus proches voisins             \n",
        "  dist, ind = tree.query(data_imp, k=5)\n",
        "  data_dist=pd.DataFrame(dist)\n",
        "  moy_dist = []\n",
        "  for i in range ( len ( data_dist)):#Calcul la moyenne des distances euclidiennes pour chaque entrée\n",
        "    moy_dist.append (data_dist.iloc[i].mean())\n",
        "  \n",
        "  #récupération des valeurs data\n",
        "  data_to_invers=data_imp.copy()\n",
        "  invers = scaler.inverse_transform(data_to_invers)\n",
        "  data_invers=pd.DataFrame(invers,columns=liste_indicateur)\n",
        "  data_invers['moy_distance']=moy_dist\n",
        "\n",
        "  #fusion des data set \n",
        "  for col in frame_to_keep.columns:\n",
        "    data_invers[col]=frame_to_keep[col].values\n",
        "\n",
        "  #frame_merge=pd.concat([data_invers,frame_to_keep], axis=1, sort=False)\n",
        "  \n",
        "  # filtre sur le 99eme percentile de la distance euclidienne\n",
        "  data_scale_dist_p=data_invers.copy()\n",
        "  dist_per_99=np.percentile(data_scale_dist_p['moy_distance'],99)\n",
        "  masque_dist_percentil = data_scale_dist_p ['moy_distance'] <= dist_per_99 \n",
        "  data_work_dist_per99 = data_scale_dist_p[masque_dist_percentil]\n",
        "  data_work_dist_per99=data_work_dist_per99.drop('moy_distance',axis=1)\n",
        "  data_work_dist_per99=data_work_dist_per99.reset_index(drop=True)\n",
        "\n",
        "  return data_work_dist_per99"
      ],
      "execution_count": null,
      "outputs": []
    },
    {
      "cell_type": "code",
      "metadata": {
        "id": "7BlXOy_kUt-v",
        "colab_type": "code",
        "colab": {}
      },
      "source": [
        "data_imp_outlier=outlier_search(data_ind_final,data_ind_final.select_dtypes(include = ['int32','float64']).columns.tolist())"
      ],
      "execution_count": null,
      "outputs": []
    },
    {
      "cell_type": "code",
      "metadata": {
        "id": "TBxXDbkAVZgy",
        "colab_type": "code",
        "colab": {
          "base_uri": "https://localhost:8080/",
          "height": 240
        },
        "outputId": "dd09e3c6-7214-45b8-84a7-970a687d97d2"
      },
      "source": [
        "data_imp_outlier.head()"
      ],
      "execution_count": null,
      "outputs": [
        {
          "output_type": "execute_result",
          "data": {
            "text/html": [
              "<div>\n",
              "<style scoped>\n",
              "    .dataframe tbody tr th:only-of-type {\n",
              "        vertical-align: middle;\n",
              "    }\n",
              "\n",
              "    .dataframe tbody tr th {\n",
              "        vertical-align: top;\n",
              "    }\n",
              "\n",
              "    .dataframe thead th {\n",
              "        text-align: right;\n",
              "    }\n",
              "</style>\n",
              "<table border=\"1\" class=\"dataframe\">\n",
              "  <thead>\n",
              "    <tr style=\"text-align: right;\">\n",
              "      <th></th>\n",
              "      <th>NumberofFloors</th>\n",
              "      <th>PropertyGFAParking</th>\n",
              "      <th>PropertyGFABuilding(s)</th>\n",
              "      <th>LargestPropertyUseTypeGFA</th>\n",
              "      <th>SecondLargestPropertyUseTypeGFA</th>\n",
              "      <th>ThirdLargestPropertyUseTypeGFA</th>\n",
              "      <th>ENERGYSTARScore</th>\n",
              "      <th>SiteEnergyUseWN(kBtu)</th>\n",
              "      <th>TotalGHGEmissions</th>\n",
              "      <th>OSEBuildingID</th>\n",
              "      <th>DataYear</th>\n",
              "      <th>BuildingType</th>\n",
              "      <th>PrimaryPropertyType</th>\n",
              "      <th>CouncilDistrictCode</th>\n",
              "      <th>Neighborhood</th>\n",
              "      <th>YearBuilt</th>\n",
              "      <th>PropertyGFATotal</th>\n",
              "      <th>LargestPropertyUseType</th>\n",
              "      <th>SecondLargestPropertyUseType</th>\n",
              "      <th>ThirdLargestPropertyUseType</th>\n",
              "      <th>Latitude</th>\n",
              "      <th>Longitude</th>\n",
              "    </tr>\n",
              "  </thead>\n",
              "  <tbody>\n",
              "    <tr>\n",
              "      <th>0</th>\n",
              "      <td>12.0</td>\n",
              "      <td>0.0</td>\n",
              "      <td>88434.0</td>\n",
              "      <td>88434.0</td>\n",
              "      <td>5238.0</td>\n",
              "      <td>7729.6</td>\n",
              "      <td>65.0</td>\n",
              "      <td>7097539.0</td>\n",
              "      <td>249.43</td>\n",
              "      <td>1</td>\n",
              "      <td>2015</td>\n",
              "      <td>NonResidential</td>\n",
              "      <td>Hotel</td>\n",
              "      <td>7</td>\n",
              "      <td>DOWNTOWN</td>\n",
              "      <td>1927</td>\n",
              "      <td>88434</td>\n",
              "      <td>Hotel</td>\n",
              "      <td>NaN</td>\n",
              "      <td>NaN</td>\n",
              "      <td>47.61219025</td>\n",
              "      <td>-122.33799744</td>\n",
              "    </tr>\n",
              "    <tr>\n",
              "      <th>1</th>\n",
              "      <td>11.0</td>\n",
              "      <td>15064.0</td>\n",
              "      <td>88502.0</td>\n",
              "      <td>83880.0</td>\n",
              "      <td>15064.0</td>\n",
              "      <td>4622.0</td>\n",
              "      <td>51.0</td>\n",
              "      <td>8765788.0</td>\n",
              "      <td>263.51</td>\n",
              "      <td>2</td>\n",
              "      <td>2015</td>\n",
              "      <td>NonResidential</td>\n",
              "      <td>Hotel</td>\n",
              "      <td>7</td>\n",
              "      <td>DOWNTOWN</td>\n",
              "      <td>1996</td>\n",
              "      <td>103566</td>\n",
              "      <td>Hotel</td>\n",
              "      <td>Parking</td>\n",
              "      <td>Restaurant</td>\n",
              "      <td>47.61310583</td>\n",
              "      <td>-122.33335756</td>\n",
              "    </tr>\n",
              "    <tr>\n",
              "      <th>2</th>\n",
              "      <td>10.0</td>\n",
              "      <td>0.0</td>\n",
              "      <td>61320.0</td>\n",
              "      <td>61320.0</td>\n",
              "      <td>59433.8</td>\n",
              "      <td>22284.6</td>\n",
              "      <td>1.0</td>\n",
              "      <td>28363444.0</td>\n",
              "      <td>1936.34</td>\n",
              "      <td>5</td>\n",
              "      <td>2015</td>\n",
              "      <td>NonResidential</td>\n",
              "      <td>Hotel</td>\n",
              "      <td>7</td>\n",
              "      <td>DOWNTOWN</td>\n",
              "      <td>1926</td>\n",
              "      <td>61320</td>\n",
              "      <td>Hotel</td>\n",
              "      <td>NaN</td>\n",
              "      <td>NaN</td>\n",
              "      <td>47.61421585</td>\n",
              "      <td>-122.33660889</td>\n",
              "    </tr>\n",
              "    <tr>\n",
              "      <th>3</th>\n",
              "      <td>18.0</td>\n",
              "      <td>12460.0</td>\n",
              "      <td>107430.0</td>\n",
              "      <td>123445.0</td>\n",
              "      <td>68009.0</td>\n",
              "      <td>0.0</td>\n",
              "      <td>67.0</td>\n",
              "      <td>15078243.0</td>\n",
              "      <td>507.70</td>\n",
              "      <td>8</td>\n",
              "      <td>2015</td>\n",
              "      <td>NonResidential</td>\n",
              "      <td>Hotel</td>\n",
              "      <td>7</td>\n",
              "      <td>DOWNTOWN</td>\n",
              "      <td>1980</td>\n",
              "      <td>119890</td>\n",
              "      <td>Hotel</td>\n",
              "      <td>Parking</td>\n",
              "      <td>Swimming Pool</td>\n",
              "      <td>47.6137544</td>\n",
              "      <td>-122.3409238</td>\n",
              "    </tr>\n",
              "    <tr>\n",
              "      <th>4</th>\n",
              "      <td>2.0</td>\n",
              "      <td>37198.0</td>\n",
              "      <td>60090.0</td>\n",
              "      <td>88830.0</td>\n",
              "      <td>6564.2</td>\n",
              "      <td>15090.8</td>\n",
              "      <td>21.6</td>\n",
              "      <td>13045258.0</td>\n",
              "      <td>304.62</td>\n",
              "      <td>9</td>\n",
              "      <td>2015</td>\n",
              "      <td>Nonresidential COS</td>\n",
              "      <td>Other</td>\n",
              "      <td>7</td>\n",
              "      <td>DOWNTOWN</td>\n",
              "      <td>1999</td>\n",
              "      <td>97288</td>\n",
              "      <td>Police Station</td>\n",
              "      <td>NaN</td>\n",
              "      <td>NaN</td>\n",
              "      <td>47.6164389</td>\n",
              "      <td>-122.33676431</td>\n",
              "    </tr>\n",
              "  </tbody>\n",
              "</table>\n",
              "</div>"
            ],
            "text/plain": [
              "   NumberofFloors  PropertyGFAParking  ...     Latitude      Longitude\n",
              "0            12.0                 0.0  ...  47.61219025  -122.33799744\n",
              "1            11.0             15064.0  ...  47.61310583  -122.33335756\n",
              "2            10.0                 0.0  ...  47.61421585  -122.33660889\n",
              "3            18.0             12460.0  ...   47.6137544   -122.3409238\n",
              "4             2.0             37198.0  ...   47.6164389  -122.33676431\n",
              "\n",
              "[5 rows x 22 columns]"
            ]
          },
          "metadata": {
            "tags": []
          },
          "execution_count": 71
        }
      ]
    },
    {
      "cell_type": "code",
      "metadata": {
        "id": "70yfHtX7QW5N",
        "colab_type": "code",
        "colab": {}
      },
      "source": [
        "data_imp_outlier=data_imp_outlier.fillna(0)"
      ],
      "execution_count": null,
      "outputs": []
    },
    {
      "cell_type": "markdown",
      "metadata": {
        "id": "rTs-t1vHWT8z",
        "colab_type": "text"
      },
      "source": [
        "###Transformation au log des variables à modéliser "
      ]
    },
    {
      "cell_type": "code",
      "metadata": {
        "id": "q3HPi7VVw07-",
        "colab_type": "code",
        "colab": {
          "base_uri": "https://localhost:8080/",
          "height": 34
        },
        "outputId": "3610ef8b-27d5-43f1-a969-2b593a50c95d"
      },
      "source": [
        "data_imp_outlier['SiteEnergyUseWN(kBtu)'].skew()"
      ],
      "execution_count": null,
      "outputs": [
        {
          "output_type": "execute_result",
          "data": {
            "text/plain": [
              "5.280165466493505"
            ]
          },
          "metadata": {
            "tags": []
          },
          "execution_count": 73
        }
      ]
    },
    {
      "cell_type": "code",
      "metadata": {
        "id": "AlTb1wnjQW83",
        "colab_type": "code",
        "colab": {
          "base_uri": "https://localhost:8080/",
          "height": 313
        },
        "outputId": "396e13f9-1d15-45e8-f414-dcf6e545fe8f"
      },
      "source": [
        "sns.set(font_scale=1)\n",
        "sns.distplot(data_imp_outlier['SiteEnergyUseWN(kBtu)'])"
      ],
      "execution_count": null,
      "outputs": [
        {
          "output_type": "execute_result",
          "data": {
            "text/plain": [
              "<matplotlib.axes._subplots.AxesSubplot at 0x7fc676d77978>"
            ]
          },
          "metadata": {
            "tags": []
          },
          "execution_count": 74
        },
        {
          "output_type": "display_data",
          "data": {
            "image/png": "[encoded data removed]",
            "text/plain": [
              "<Figure size 432x288 with 1 Axes>"
            ]
          },
          "metadata": {
            "tags": []
          }
        }
      ]
    },
    {
      "cell_type": "code",
      "metadata": {
        "id": "ekuQvft2Tipq",
        "colab_type": "code",
        "colab": {
          "base_uri": "https://localhost:8080/",
          "height": 121
        },
        "outputId": "9a003ee6-bc88-434d-f056-7f2518ad8e78"
      },
      "source": [
        "data_log = np.log(data_imp_outlier['SiteEnergyUseWN(kBtu)'])\n",
        "data_log_1p = np.log1p(data_imp_outlier['SiteEnergyUseWN(kBtu)'])\n",
        "data_log_2 = np.log2(data_imp_outlier['SiteEnergyUseWN(kBtu)'])\n",
        "data_log_10 = np.log10(data_imp_outlier['SiteEnergyUseWN(kBtu)'])"
      ],
      "execution_count": null,
      "outputs": [
        {
          "output_type": "stream",
          "text": [
            "/usr/local/lib/python3.6/dist-packages/pandas/core/series.py:679: RuntimeWarning: divide by zero encountered in log\n",
            "  result = getattr(ufunc, method)(*inputs, **kwargs)\n",
            "/usr/local/lib/python3.6/dist-packages/pandas/core/series.py:679: RuntimeWarning: divide by zero encountered in log2\n",
            "  result = getattr(ufunc, method)(*inputs, **kwargs)\n",
            "/usr/local/lib/python3.6/dist-packages/pandas/core/series.py:679: RuntimeWarning: divide by zero encountered in log10\n",
            "  result = getattr(ufunc, method)(*inputs, **kwargs)\n"
          ],
          "name": "stderr"
        }
      ]
    },
    {
      "cell_type": "code",
      "metadata": {
        "id": "MgE5ddQvUD6f",
        "colab_type": "code",
        "colab": {
          "base_uri": "https://localhost:8080/",
          "height": 302
        },
        "outputId": "c493d398-0ec1-4c25-c491-ce8479fa63a0"
      },
      "source": [
        "sns.distplot(data_log_1p)"
      ],
      "execution_count": null,
      "outputs": [
        {
          "output_type": "execute_result",
          "data": {
            "text/plain": [
              "<matplotlib.axes._subplots.AxesSubplot at 0x7fc676df19e8>"
            ]
          },
          "metadata": {
            "tags": []
          },
          "execution_count": 76
        },
        {
          "output_type": "display_data",
          "data": {
            "image/png": "[encoded data removed]",
            "text/plain": [
              "<Figure size 432x288 with 1 Axes>"
            ]
          },
          "metadata": {
            "tags": []
          }
        }
      ]
    },
    {
      "cell_type": "code",
      "metadata": {
        "id": "9tsrHN1PWcNc",
        "colab_type": "code",
        "colab": {}
      },
      "source": [
        "data_imp_outlier['log_SiteEnergyUseWN(kBtu)']=data_log_1p"
      ],
      "execution_count": null,
      "outputs": []
    },
    {
      "cell_type": "code",
      "metadata": {
        "id": "Rv8EQHpnX9Sa",
        "colab_type": "code",
        "colab": {}
      },
      "source": [
        "data_imp_outlier=data_imp_outlier.drop('SiteEnergyUseWN(kBtu)',axis=1)"
      ],
      "execution_count": null,
      "outputs": []
    },
    {
      "cell_type": "code",
      "metadata": {
        "id": "-EuMw_xgwDwl",
        "colab_type": "code",
        "colab": {
          "base_uri": "https://localhost:8080/",
          "height": 34
        },
        "outputId": "882c1791-624d-415a-8dec-7dfabf4a714e"
      },
      "source": [
        "data_imp_outlier['TotalGHGEmissions'].skew()"
      ],
      "execution_count": null,
      "outputs": [
        {
          "output_type": "execute_result",
          "data": {
            "text/plain": [
              "8.11529929340361"
            ]
          },
          "metadata": {
            "tags": []
          },
          "execution_count": 79
        }
      ]
    },
    {
      "cell_type": "code",
      "metadata": {
        "id": "MX3YsPijxUvS",
        "colab_type": "code",
        "colab": {
          "base_uri": "https://localhost:8080/",
          "height": 302
        },
        "outputId": "771264b3-f8e2-432b-fa91-b02aa9f38fde"
      },
      "source": [
        "sns.set(font_scale=1)\n",
        "sns.distplot(data_imp_outlier['TotalGHGEmissions'])"
      ],
      "execution_count": null,
      "outputs": [
        {
          "output_type": "execute_result",
          "data": {
            "text/plain": [
              "<matplotlib.axes._subplots.AxesSubplot at 0x7fc676d634a8>"
            ]
          },
          "metadata": {
            "tags": []
          },
          "execution_count": 80
        },
        {
          "output_type": "display_data",
          "data": {
            "image/png": "[encoded data removed]",
            "text/plain": [
              "<Figure size 432x288 with 1 Axes>"
            ]
          },
          "metadata": {
            "tags": []
          }
        }
      ]
    },
    {
      "cell_type": "code",
      "metadata": {
        "id": "iLzepqEIxwSR",
        "colab_type": "code",
        "colab": {
          "base_uri": "https://localhost:8080/",
          "height": 121
        },
        "outputId": "8fd9c4f0-7fe0-412e-fcf7-fc5f8199de6a"
      },
      "source": [
        "data_log_g = np.log(data_imp_outlier['TotalGHGEmissions'])\n",
        "data_log_1p_g = np.log1p(data_imp_outlier['TotalGHGEmissions'])\n",
        "data_log_2_g = np.log2(data_imp_outlier['TotalGHGEmissions'])\n",
        "data_log_10_g = np.log10(data_imp_outlier['TotalGHGEmissions'])"
      ],
      "execution_count": null,
      "outputs": [
        {
          "output_type": "stream",
          "text": [
            "/usr/local/lib/python3.6/dist-packages/pandas/core/series.py:679: RuntimeWarning: divide by zero encountered in log\n",
            "  result = getattr(ufunc, method)(*inputs, **kwargs)\n",
            "/usr/local/lib/python3.6/dist-packages/pandas/core/series.py:679: RuntimeWarning: divide by zero encountered in log2\n",
            "  result = getattr(ufunc, method)(*inputs, **kwargs)\n",
            "/usr/local/lib/python3.6/dist-packages/pandas/core/series.py:679: RuntimeWarning: divide by zero encountered in log10\n",
            "  result = getattr(ufunc, method)(*inputs, **kwargs)\n"
          ],
          "name": "stderr"
        }
      ]
    },
    {
      "cell_type": "code",
      "metadata": {
        "id": "2yDfhx_zxwXj",
        "colab_type": "code",
        "colab": {
          "base_uri": "https://localhost:8080/",
          "height": 304
        },
        "outputId": "ee3e2ab9-924c-414b-962a-c5971dfd04d0"
      },
      "source": [
        "sns.distplot(data_log_1p_g)"
      ],
      "execution_count": null,
      "outputs": [
        {
          "output_type": "execute_result",
          "data": {
            "text/plain": [
              "<matplotlib.axes._subplots.AxesSubplot at 0x7fc676e3ce80>"
            ]
          },
          "metadata": {
            "tags": []
          },
          "execution_count": 82
        },
        {
          "output_type": "display_data",
          "data": {
            "image/png": "[encoded data removed]",
            "text/plain": [
              "<Figure size 432x288 with 1 Axes>"
            ]
          },
          "metadata": {
            "tags": []
          }
        }
      ]
    },
    {
      "cell_type": "code",
      "metadata": {
        "id": "FCAdpSTTxwKZ",
        "colab_type": "code",
        "colab": {}
      },
      "source": [
        "data_imp_outlier['log_TotalGHGEmissions']=data_log_1p_g"
      ],
      "execution_count": null,
      "outputs": []
    },
    {
      "cell_type": "code",
      "metadata": {
        "id": "R5ljbj_Ryfaj",
        "colab_type": "code",
        "colab": {}
      },
      "source": [
        "data_imp_outlier=data_imp_outlier.drop('TotalGHGEmissions',axis=1)"
      ],
      "execution_count": null,
      "outputs": []
    },
    {
      "cell_type": "code",
      "metadata": {
        "id": "WLp8EBQdYEyI",
        "colab_type": "code",
        "colab": {
          "base_uri": "https://localhost:8080/",
          "height": 240
        },
        "outputId": "b01cf145-b938-4aef-e4ff-cb33c9da4ae4"
      },
      "source": [
        "data_imp_outlier.head()"
      ],
      "execution_count": null,
      "outputs": [
        {
          "output_type": "execute_result",
          "data": {
            "text/html": [
              "<div>\n",
              "<style scoped>\n",
              "    .dataframe tbody tr th:only-of-type {\n",
              "        vertical-align: middle;\n",
              "    }\n",
              "\n",
              "    .dataframe tbody tr th {\n",
              "        vertical-align: top;\n",
              "    }\n",
              "\n",
              "    .dataframe thead th {\n",
              "        text-align: right;\n",
              "    }\n",
              "</style>\n",
              "<table border=\"1\" class=\"dataframe\">\n",
              "  <thead>\n",
              "    <tr style=\"text-align: right;\">\n",
              "      <th></th>\n",
              "      <th>NumberofFloors</th>\n",
              "      <th>PropertyGFAParking</th>\n",
              "      <th>PropertyGFABuilding(s)</th>\n",
              "      <th>LargestPropertyUseTypeGFA</th>\n",
              "      <th>SecondLargestPropertyUseTypeGFA</th>\n",
              "      <th>ThirdLargestPropertyUseTypeGFA</th>\n",
              "      <th>ENERGYSTARScore</th>\n",
              "      <th>OSEBuildingID</th>\n",
              "      <th>DataYear</th>\n",
              "      <th>BuildingType</th>\n",
              "      <th>PrimaryPropertyType</th>\n",
              "      <th>CouncilDistrictCode</th>\n",
              "      <th>Neighborhood</th>\n",
              "      <th>YearBuilt</th>\n",
              "      <th>PropertyGFATotal</th>\n",
              "      <th>LargestPropertyUseType</th>\n",
              "      <th>SecondLargestPropertyUseType</th>\n",
              "      <th>ThirdLargestPropertyUseType</th>\n",
              "      <th>Latitude</th>\n",
              "      <th>Longitude</th>\n",
              "      <th>log_SiteEnergyUseWN(kBtu)</th>\n",
              "      <th>log_TotalGHGEmissions</th>\n",
              "    </tr>\n",
              "  </thead>\n",
              "  <tbody>\n",
              "    <tr>\n",
              "      <th>0</th>\n",
              "      <td>12.0</td>\n",
              "      <td>0.0</td>\n",
              "      <td>88434.0</td>\n",
              "      <td>88434.0</td>\n",
              "      <td>5238.0</td>\n",
              "      <td>7729.6</td>\n",
              "      <td>65.0</td>\n",
              "      <td>1</td>\n",
              "      <td>2015</td>\n",
              "      <td>NonResidential</td>\n",
              "      <td>Hotel</td>\n",
              "      <td>7</td>\n",
              "      <td>DOWNTOWN</td>\n",
              "      <td>1927</td>\n",
              "      <td>88434</td>\n",
              "      <td>Hotel</td>\n",
              "      <td>0</td>\n",
              "      <td>0</td>\n",
              "      <td>47.61219025</td>\n",
              "      <td>-122.33799744</td>\n",
              "      <td>15.775259</td>\n",
              "      <td>5.523179</td>\n",
              "    </tr>\n",
              "    <tr>\n",
              "      <th>1</th>\n",
              "      <td>11.0</td>\n",
              "      <td>15064.0</td>\n",
              "      <td>88502.0</td>\n",
              "      <td>83880.0</td>\n",
              "      <td>15064.0</td>\n",
              "      <td>4622.0</td>\n",
              "      <td>51.0</td>\n",
              "      <td>2</td>\n",
              "      <td>2015</td>\n",
              "      <td>NonResidential</td>\n",
              "      <td>Hotel</td>\n",
              "      <td>7</td>\n",
              "      <td>DOWNTOWN</td>\n",
              "      <td>1996</td>\n",
              "      <td>103566</td>\n",
              "      <td>Hotel</td>\n",
              "      <td>Parking</td>\n",
              "      <td>Restaurant</td>\n",
              "      <td>47.61310583</td>\n",
              "      <td>-122.33335756</td>\n",
              "      <td>15.986367</td>\n",
              "      <td>5.577879</td>\n",
              "    </tr>\n",
              "    <tr>\n",
              "      <th>2</th>\n",
              "      <td>10.0</td>\n",
              "      <td>0.0</td>\n",
              "      <td>61320.0</td>\n",
              "      <td>61320.0</td>\n",
              "      <td>59433.8</td>\n",
              "      <td>22284.6</td>\n",
              "      <td>1.0</td>\n",
              "      <td>5</td>\n",
              "      <td>2015</td>\n",
              "      <td>NonResidential</td>\n",
              "      <td>Hotel</td>\n",
              "      <td>7</td>\n",
              "      <td>DOWNTOWN</td>\n",
              "      <td>1926</td>\n",
              "      <td>61320</td>\n",
              "      <td>Hotel</td>\n",
              "      <td>0</td>\n",
              "      <td>0</td>\n",
              "      <td>47.61421585</td>\n",
              "      <td>-122.33660889</td>\n",
              "      <td>17.160612</td>\n",
              "      <td>7.569071</td>\n",
              "    </tr>\n",
              "    <tr>\n",
              "      <th>3</th>\n",
              "      <td>18.0</td>\n",
              "      <td>12460.0</td>\n",
              "      <td>107430.0</td>\n",
              "      <td>123445.0</td>\n",
              "      <td>68009.0</td>\n",
              "      <td>0.0</td>\n",
              "      <td>67.0</td>\n",
              "      <td>8</td>\n",
              "      <td>2015</td>\n",
              "      <td>NonResidential</td>\n",
              "      <td>Hotel</td>\n",
              "      <td>7</td>\n",
              "      <td>DOWNTOWN</td>\n",
              "      <td>1980</td>\n",
              "      <td>119890</td>\n",
              "      <td>Hotel</td>\n",
              "      <td>Parking</td>\n",
              "      <td>Swimming Pool</td>\n",
              "      <td>47.6137544</td>\n",
              "      <td>-122.3409238</td>\n",
              "      <td>16.528763</td>\n",
              "      <td>6.231858</td>\n",
              "    </tr>\n",
              "    <tr>\n",
              "      <th>4</th>\n",
              "      <td>2.0</td>\n",
              "      <td>37198.0</td>\n",
              "      <td>60090.0</td>\n",
              "      <td>88830.0</td>\n",
              "      <td>6564.2</td>\n",
              "      <td>15090.8</td>\n",
              "      <td>21.6</td>\n",
              "      <td>9</td>\n",
              "      <td>2015</td>\n",
              "      <td>Nonresidential COS</td>\n",
              "      <td>Other</td>\n",
              "      <td>7</td>\n",
              "      <td>DOWNTOWN</td>\n",
              "      <td>1999</td>\n",
              "      <td>97288</td>\n",
              "      <td>Police Station</td>\n",
              "      <td>0</td>\n",
              "      <td>0</td>\n",
              "      <td>47.6164389</td>\n",
              "      <td>-122.33676431</td>\n",
              "      <td>16.383935</td>\n",
              "      <td>5.722343</td>\n",
              "    </tr>\n",
              "  </tbody>\n",
              "</table>\n",
              "</div>"
            ],
            "text/plain": [
              "   NumberofFloors  ...  log_TotalGHGEmissions\n",
              "0            12.0  ...               5.523179\n",
              "1            11.0  ...               5.577879\n",
              "2            10.0  ...               7.569071\n",
              "3            18.0  ...               6.231858\n",
              "4             2.0  ...               5.722343\n",
              "\n",
              "[5 rows x 22 columns]"
            ]
          },
          "metadata": {
            "tags": []
          },
          "execution_count": 85
        }
      ]
    },
    {
      "cell_type": "code",
      "metadata": {
        "id": "d-bezY3IXRnr",
        "colab_type": "code",
        "colab": {}
      },
      "source": [
        "data_imp_outlier.to_csv('P4_data_clean.csv')"
      ],
      "execution_count": null,
      "outputs": []
    },
    {
      "cell_type": "code",
      "metadata": {
        "id": "FDD_EN58YcIo",
        "colab_type": "code",
        "colab": {}
      },
      "source": [
        ""
      ],
      "execution_count": null,
      "outputs": []
    },
    {
      "cell_type": "code",
      "metadata": {
        "id": "AkethC-oYb-O",
        "colab_type": "code",
        "colab": {}
      },
      "source": [
        ""
      ],
      "execution_count": null,
      "outputs": []
    },
    {
      "cell_type": "markdown",
      "metadata": {
        "id": "G5v6aPK0Ycbw",
        "colab_type": "text"
      },
      "source": [
        "#Modélisation"
      ]
    },
    {
      "cell_type": "code",
      "metadata": {
        "id": "6ECb-UkwYeRH",
        "colab_type": "code",
        "colab": {}
      },
      "source": [
        "### autre notebook"
      ],
      "execution_count": null,
      "outputs": []
    }
  ]
}